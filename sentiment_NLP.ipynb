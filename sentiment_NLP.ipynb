{
  "nbformat": 4,
  "nbformat_minor": 0,
  "metadata": {
    "colab": {
      "name": "sentiment-NLP.ipynb",
      "provenance": [],
      "collapsed_sections": []
    },
    "kernelspec": {
      "name": "python3",
      "display_name": "Python 3"
    }
  },
  "cells": [
    {
      "cell_type": "markdown",
      "metadata": {
        "id": "VwK5-9FIB-lu",
        "colab_type": "text"
      },
      "source": [
        "# Natural Language Processing"
      ]
    },
    {
      "cell_type": "markdown",
      "metadata": {
        "id": "X1kiO9kACE6s",
        "colab_type": "text"
      },
      "source": [
        "## Importing the libraries"
      ]
    },
    {
      "cell_type": "code",
      "metadata": {
        "id": "7QG7sxmoCIvN",
        "colab_type": "code",
        "colab": {}
      },
      "source": [
        "import numpy as np\n",
        "import matplotlib.pyplot as plt\n",
        "import pandas as pd"
      ],
      "execution_count": null,
      "outputs": []
    },
    {
      "cell_type": "markdown",
      "metadata": {
        "id": "wTfaCIzdCLPA",
        "colab_type": "text"
      },
      "source": [
        "## Importing the dataset"
      ]
    },
    {
      "cell_type": "code",
      "metadata": {
        "id": "UCK6vQ5QCQJe",
        "colab_type": "code",
        "colab": {
          "base_uri": "https://localhost:8080/",
          "height": 195
        },
        "outputId": "a5e7ad62-ce8b-4155-ebdf-d10b96772cb8"
      },
      "source": [
        "dataset = pd.read_csv('sentiment.csv', delimiter = ',')\n",
        "dataset.head()"
      ],
      "execution_count": null,
      "outputs": [
        {
          "output_type": "execute_result",
          "data": {
            "text/html": [
              "<div>\n",
              "<style scoped>\n",
              "    .dataframe tbody tr th:only-of-type {\n",
              "        vertical-align: middle;\n",
              "    }\n",
              "\n",
              "    .dataframe tbody tr th {\n",
              "        vertical-align: top;\n",
              "    }\n",
              "\n",
              "    .dataframe thead th {\n",
              "        text-align: right;\n",
              "    }\n",
              "</style>\n",
              "<table border=\"1\" class=\"dataframe\">\n",
              "  <thead>\n",
              "    <tr style=\"text-align: right;\">\n",
              "      <th></th>\n",
              "      <th>sentiment_label</th>\n",
              "      <th>tweet_text</th>\n",
              "    </tr>\n",
              "  </thead>\n",
              "  <tbody>\n",
              "    <tr>\n",
              "      <th>0</th>\n",
              "      <td>4</td>\n",
              "      <td>@elephantbird Hey dear, Happy Friday to You  A...</td>\n",
              "    </tr>\n",
              "    <tr>\n",
              "      <th>1</th>\n",
              "      <td>4</td>\n",
              "      <td>Ughhh layin downnnn    Waiting for zeina to co...</td>\n",
              "    </tr>\n",
              "    <tr>\n",
              "      <th>2</th>\n",
              "      <td>0</td>\n",
              "      <td>@greeniebach I reckon he'll play, even if he's...</td>\n",
              "    </tr>\n",
              "    <tr>\n",
              "      <th>3</th>\n",
              "      <td>0</td>\n",
              "      <td>@vaLewee I know!  Saw it on the news!</td>\n",
              "    </tr>\n",
              "    <tr>\n",
              "      <th>4</th>\n",
              "      <td>0</td>\n",
              "      <td>very sad that http://www.fabchannel.com/ has c...</td>\n",
              "    </tr>\n",
              "  </tbody>\n",
              "</table>\n",
              "</div>"
            ],
            "text/plain": [
              "   sentiment_label                                         tweet_text\n",
              "0                4  @elephantbird Hey dear, Happy Friday to You  A...\n",
              "1                4  Ughhh layin downnnn    Waiting for zeina to co...\n",
              "2                0  @greeniebach I reckon he'll play, even if he's...\n",
              "3                0              @vaLewee I know!  Saw it on the news!\n",
              "4                0  very sad that http://www.fabchannel.com/ has c..."
            ]
          },
          "metadata": {
            "tags": []
          },
          "execution_count": 4
        }
      ]
    },
    {
      "cell_type": "markdown",
      "metadata": {
        "id": "Qekztq71CixT",
        "colab_type": "text"
      },
      "source": [
        "## Cleaning the texts"
      ]
    },
    {
      "cell_type": "code",
      "metadata": {
        "id": "8u_yXh9dCmEE",
        "colab_type": "code",
        "colab": {
          "base_uri": "https://localhost:8080/",
          "height": 50
        },
        "outputId": "c90184f7-f3fb-47b3-eb5a-4acc628b0f64"
      },
      "source": [
        "import re\n",
        "import nltk\n",
        "nltk.download('stopwords')\n",
        "from nltk.corpus import stopwords\n",
        "from nltk.stem.porter import PorterStemmer\n",
        "corpus = []\n",
        "for i in range(0, 160000):\n",
        "  review = re.sub('[^a-zA-Z]', ' ', dataset['tweet_text'][i])\n",
        "  review = review.lower()\n",
        "  review = review.split()\n",
        "  ps = PorterStemmer()\n",
        "  all_stopwords = stopwords.words('english')\n",
        "  all_stopwords.remove('not')\n",
        "  review = [ps.stem(word) for word in review if not word in set(all_stopwords)]\n",
        "  review = ' '.join(review)\n",
        "  corpus.append(review)"
      ],
      "execution_count": null,
      "outputs": [
        {
          "output_type": "stream",
          "text": [
            "[nltk_data] Downloading package stopwords to /root/nltk_data...\n",
            "[nltk_data]   Package stopwords is already up-to-date!\n"
          ],
          "name": "stdout"
        }
      ]
    },
    {
      "cell_type": "code",
      "metadata": {
        "id": "KpGWdrzGoAsL",
        "colab_type": "code",
        "colab": {
          "base_uri": "https://localhost:8080/",
          "height": 54
        },
        "outputId": "7f816f23-5cb0-46d6-9a7c-480029f32a0e"
      },
      "source": [
        "print(corpus)"
      ],
      "execution_count": null,
      "outputs": [
        {
          "output_type": "stream",
          "text": [
            "['elephantbird hey dear happi friday alreadi rice bowl lunch', 'ughhh layin downnnn wait zeina cook breakfast', 'greeniebach reckon play even not know noth without', 'valewe know saw news', 'sad http www fabchannel com close one web servic use year', 'fearnecotton sing rememb alwaysss hear radio never catch artist', 'god ur side anyth possibl', 'lovesmr stupid', 'delv back gut express engin flexibl cm use dev not great client though', 'emoskank awww take', 'video vh much better u tube one', 'ran champagn wonder call brother could convinc bring bottl', 'carolinefjon wish go show tonight', 'homework bed wake gonna aw', 'ashleyltmsyf hey ashley hush hush hush hush video wait', 'scratch enjoy seein peopl left colleg came back summer make chuckl', 'demi superfan hey im good sorri took long repli im chillin listen music wbu', 'lydiajohn good morn earli chill chomp far train', 'joni omggg lol saw trend topic think releas get soon hehe', 'danielak say quot good morn quot head bed next month serious marvel time amp check', 'katyperri enjoy time famili', 'okay quarter past midnight school night still awak gotta like hour', 'yelyahwilliam http twitpic com u add velcro fun', 'mileycyru could wors go uni tomorrow prepar exam word essay wednesday tragic', 'tommcfli gave bruis cut croydon also crack phone screen love x', 'best thing world wake yr old lick face lol thank babi', 'mad tradorjo favorit flatten banana even made special trip get', 'not feel well', 'aubreyoday love show weed dont get london miss american tv show', 'xthe happi emox hey', 'hey wait school start page rough draft done go harder expect', 'timclebron yeah im think go tri earn money warp', 'lauraroth sincerley appreci ur followfriday action thx', 'love babe', 'wish get marri', 'open mic poetri longbranch come hang', 'dread drive st loui', 'suniaahm school program go twitter stuff go', 'gonna go clean room bbl', 'tanver awwwwww', 'saw kati perri music video think made cri', 'gonna start work na darn bye twitter', 'rayce sister said kill follow', 'beauti day farm get take care cat duck chicken llama llama cool', 'grandma dog missi thirteen http twitpic com hzbm', 'naruisatwit hi zexion cute sad feria end not chang flight date anyway', 'di bad cant believ think imma grow accustom n da ju feel n im still hopin u', 'bobwin oh well know lol well sorri work better luck next time', 'got sick type lol got paragrpah word', 'eye burn', 'head citi', 'mrpeterandr hope everyth ok tough time keep strong life short anger keep singin xx', 'janetgomez bio similar bio look forward get know', 'joeymcintyr gone x', 'monikamapl booo still', 'karenalloy yeeehawwwww buy cowboy overal sinc actual dont lol special danc session', 'sympath jon kate divorc plain suck done', 'look like might sunni london today hope everyon love weekend', 'ty cruiser clear confus song still searc long lost friend yr count miss vikki', 'mum got home made chees sandwich goood wait two game start', 'feel lone', 'go lake today cookin', 'not simtect leav aftr earli get plane back hobart good day abc put propos interest', 'quot gain reward cannot give answer know heart wound paid ransom quot', 'casiestewart not miss sun', 'cycl grow', 'julioangelortiz drop die', 'amaz lili allen make f amp sound pretti', 'think decemb', 'nice girl one want whole classroom fill use proud work', 'damn tubbi must sleep centr foot bed sleep comfort', 'ohhhh confer call', 'anxieti think dentist tonight', 'cripplewarlord job', 'full def recommend oliv garden everyon', 'timvl link dood', 'il one month cant freak wait', 'car embark hour trip car florida', 'get wrong love sunshin hate sticki heat goe end feel grubbi', 'oh lost water bottl thirsti right angri agrrr', 'karageorgaki politicali correct', 'would nice around grand littl startup not ask much ha', 'druggedyourself dont go never togeth', 'much work', 'two huge girl sit next eat hamburg mouth open', 'carlsonspeak congratul bruce quot follow tweopl quot list http twitpwr com ha', 'lou bookpush think like torch tongu firmli cheek intrigu book', 'mayb say prayer pray god everyth go great tomorrow im scare im gonna tri get sleep', 'nadiaparri like ben want ben debra final reliabl inform one want', 'finish eat sushi ladiez get shwasteddddddddd', 'mooni omg believ want cri freak fb spoil could happen', 'dannygokey watch u rock ps could u follow thnx huge fan', 'saimin thank tip look ha', 'crizzsam http twitpic com ee hate wannttt', 'nah seriou alreadi total cut red meat chicken next fish', 'feel like art ing', 'pro cra ti nate verb put till anoth day time delay final suck laker game instead', 'oh cant forget cow doesnt even know exist alex lol', 'realli need work sleep schedul', 'ciaolaura wait right opportun think rent', 'creativ moment katii thinkin name creativ work', 'karen lol finger cross weather stay good us', 'hurt back commiss', 'train downtown chicago bad cold raini forgot jacket', 'realli need go gym not feel motiv', 'rebeccaunfri that cool make browni way', 'davereardon cool mayhem fighter like', '', 'swhitley tweet post went googl came upon mytweepl seem oddli coincident thank post tool', 'still gloria jean wait sushi dinner thank help mrstatil still ton though', 'mileycyru cant wait hear', 'dad came home yesterday today go hang jesseka woo', 'job nice day not better', 'woke amp go back sleep txt bff sayin call sound import hour ago', 'need sleep work', 'paulaabdul poor david famili im pray whatev religion hope peopl pray', 'go sleep forev amp excit', 'cathc old gossip giril love chuck think start fall love dan', 'miss fo like mad watch fo video', 'excit hope school id accept cuz state id', 'excit interview tuesday june pm sheena metal experi http www sheenametalexperi com', 'amedelrivero start put everi paycheck prepar futur get', 'rawritsami ahh would total drink', 'appar someth wrong headphon jack iphon head appl store diognosi', 'hmmmm drunk photo alway best well worst', 'melaniefresh yeah guy feel', 'cont quot hello quot repli quot hey mom quot end lol lmao', 'see mcfli jona brother tonight like dream come true', 'covergirl lose plot work ok look forward holiday month go', 'freakin hungri stomach feel like sinkin someon cook', 'rawr u come watch w us', 'ok yeah snifter n broken earlier mp thx god mine mp', 'post comment discuss someon els face next comment http bit ly xso', 'spend afternoon work unltdworld contribut shine recov thrash got utd', 'chemistri revis', 'fell sunloung garden bad time fell sunloung garden bad time', 'jog realli cool especi got high fever', 'niteboy good thank hbu xo', 'rockyduuud hey rosi good morn know hayley twitter', 'gossip girl season episod tuesday gosh waiiiitttt realli miss chair', 'hollyearp get mac restart tri plug', 'back beach pool tomorrow oper pack life away begin tomorrow even', 'utingm welcom twitter', 'lndnski get butt twitter f sake guy awak tweet kiss', 'feelinjg sick fuck ahhhhhh want soup', 'goodnight got polit scienc paper done half lesson plan shall finish rest tomorrow', 'kateblog get follow day use www tweeteradd com add everyon train pay vip', 'kirstiealley marleematlin got tweet marle pretend read caption hotti nxt da guy red', 'go doctor hayfev taken life', 'hotword quot love life quot amp quot follow pleas quot', 'geralgm hey thank follow', 'codedor know live ledebronx still far piti kind entrepreneurship reach us overher', 'tire headach good show though haha', 'would prefer not even awak', 'thank god embraer rj take jfk accord reserv not turboprop seem lack underseat storag though', 'thebigfella ticket got ya', 'back use plain old digsbi alpha flat line http ff im w vs', 'want go swim soooooooo bad', 'lay bed stasia hog fan said water broke amp moan hahahahaha oh god', 'wow hot today glad pool nearbi', 'mitzula pot size bet nooooooo overbet pot shove think ur bluf call good luck', 'achitni roflmao explain person', 'yay rain denmark tell happi live sigh live la', 'meridian star oh suck majorli think work sound bad part', 'miami airport flight st thoma delay http yfrog com ksn usyj', 'not go gallopi today realli ask im honest l bad cold yayyyi fair tomorrow', 'jadedaniel fit decemb dear heard rumor', 'minut textcapad w besti beccaluvsjb dork luv time bed nighti night', 'head work feel great say', 'wtcc lol agre boom boom pow realli annoy remix kid cudi though pritti sweet', 'encourag u love attitud colleg kid start graphic design busi year http www kokorographix com', 'yayyy miss scienc math tomoro french morn eugh fair trade', 'flisste lot eye roll part', 'dianedisco ever crack neck snap finger crack knuckl accid', 'gavlp sorri hot super ceil fan make bearabl noisi guest well know suggest', 'go run mile promis today beat sinc promis', 'colleg candi floss gallow bu home dentist tho http yfrog com givj', 'xo mcflyandjb errrmm get new releas', 'vixen x chyness boooo call write send flower', 'bought summer skirt wear work yesterday gone cold weather chang must fault', 'vivian problem besti', 'sherri sux lasdt time manag shave sec limp awhil', 'man twiit long n stuff miss run hous betta rerun fast lol ok noooowwww im sheesh haha', 'shadow huski', 'jucynov say hello hurrican septemb think month go releas new album', 'rktic alreadi recommend yesterday thank', 'fraukewatson thank glad u like', 'written recent world would read tipsforwrit', 'hate mid shift bore slow', 'melankolym one word know', 'ooooh mtv movi award tonight someth watch studi leav tomorrow', 'ac broken need replac squarespac', 'ahh dream someth good wake lol', 'go sleep jeff dunham hilari good date night', 'ronaldheft chang least time sinc info anywher', 'alexandramus suun', 'dream last nite spiderman green goblin would total not leav alon dude tri multipl time kill', 'best friend jenni made day alway', 'http twitpic com f ax great forgot turn bad turn head hahaha', 'ciao napoli ye tri make weekend check also spaccanapoli la pizzeria del president', 'nin concert', 'anthothemantho hahaha agre cri like babi split brother ha', 'kristu sorri bout aquatica', 'ughh teenag sux like alot', 'hink vacat', 'nna aka ann btw couldv e stay longer', 'alway look way crosss street', 'moomimmel nd giveaway send today biggi giveaway soon suppos', 'leonorawrr okeh send skg juga sist haha emang geeuleeh middl finger buat thu orang uwek find attach ok wait', 'miguel n hey photo yummi real live pala hehe read snippet yummi mag', 'look like rachel today either', 'yay got twitter back', 'new twitter follow go see giveaway boy dog blog see win one photo http snipr com', 'kimberlyc wireless internet dr', 'ingenu em actual websit btw updat forev low re though http bit ly nygap', 'quimo oh ok cool go check thank', 'purplechar saw wanttttt', 'say good even http plurk com p vgh', 'tommcfli nah sweet taken away though poor ear hurt like hell whole flight', 'http twitpic com p x lightn storm earlier good weather miss us', 'want wear fuzzi sock linoleum listen find nemo soundtrack not watch pen lose right', 'miss daddi', 'kimkardashian ye kim back high school probabl worst thing ever grow back part took f r e v e r', 'need glass cranberri juic', 'itzstarrnicol even gone nite get earli bed time doh', 'go celebr first fellow uni pale woohoo still believ yay summer lifetim come', 'not go nowher bitch', 'micheleannej depend kind video', 'melmenzi dont think sarcasm twitter mix v well', 'precis noth mummi fri fish hair smell', 'hi dad wasnt well tonight feet x size cold night wrap blanket love', 'thewebsterhoff stick ps still', 'sounder columbu crew half', 'bore one talk lol', 'fbipressoffic want work fbi young coupl thing negat dream', 'away instal teh new ubuntu serer onto old box', 'reilli want quot holler quot pain twitter', 'twitter account hack not write last messag furiou', 'nathanfunshin ah whatta meani wish sister', 'bryan kavanagh damn spinlock never get enough weight lol got dad make quot db', 'jonchou ye awesom', 'got eye aid hurt', 'stephenfri respons fr u follow', 'assign go', 'twitter iz f ing', 'chillin w jayden hour amp half til dad come home', 'bore asdfghjkl', 'best disconap evar tonight booz boyz big primpin gonna miss wadeborg one', 'bed tonight realli realli funni best famili ever', 'go sp laguna later popsi', 'sarahtkan get job hear head india cool bollywood fan', 'ssnina koo wish lol', 'confer less day california left', 'tanricha jerk well gma sherri got mint chip ice cream yummmmmi', 'rorywallac ahaha man hope find use', 'fill applic see happen ww thgrader com au via dhughesi', 'flatpook problem thank let know add link note everyon find enjoy digest', 'spencerpratt noon like', 'think heather go new jersey juli th jona', 'jackalopekid still pay rent check updat system allow onlin bill pay', 'wanderermus haha sorri scottish come meant colleg uni school work', 'watch david archi eat bulaga friggin awesom wish could watch concert though', 'go watch ponderland tonight au get final well apart scandal show flu', 'play pool kid today miss call bum', 'wishdreamhop like new name', 'found sb speedlight chicago craigslist wish money', 'fustbaricl kind cool idea buy bottl', 'kaylenecastro welcom', 'attent hh graduat lost game', 'hey conf er fight power ustream show strength twitter let organis know real time video suck', 'love sunday rest', 'sewwychristin ugh suck play wow laptop play later gah', 'need gal friend lovin ex boyfriend get marri tomorrow super weird dunno quit feel', 'parisjay noth msn take smthing complet new not even program html base app', 'back school', 'someon mention person brand cap may stephaniealloyd dorothydalton', 'camera today', 'rrb nah die week ago today nkotb great distract', 'itsruthieyo aww poor aunti', 'littlemissedith welcom x', 'long day ut trippin day thought gonna abl tweet trip', 'god good life good', 'sound like plan jacobman im havin lunch', 'watch fantasi factori nitro circu', 'hate summer make lazi aka wanna go parti anim', 'sunsetttt fun night ucla coppertonecuti', 'text test', 'cheskalabbyu thank follow take care', 'n right parti mood whoo hoo bad parti go oh well parti b amaz', 'http twitpic com ddhl mitchel davi woo', 'two new hurley shirt today jealou', 'first thing think morn', 'way school idk th twit got cold yersterday waz hot hell today cold not nice', 'aniqa x need get cuz know abl get chem need b overal not gonna happen', 'swing littl nephew wonder time', 'mom bought watermelon great night', 'studi act shooooot', 'kymiess gonna weird live somewher els year realli stress', 'weather bum outsid sins warmth n nice breath dnt wanna b trap studio today', 'hate today', 'maryloulizeth later fat alreadi eatin mmhmmm', 'hah teacher hour left went home', 'miss cat dearli wish could bring dorm', 'snuva mmmmmm love curri oregan though', 'terri own island also keep peopl put coupon windshield wiper prolli cut cell phone ad', 'cant updat profil pictur chang background imag communityequ ugli ugli twitter bug', 'monday blue', 'ddlovato cant wait see camp rock love ur song n u r', 'judi jay gayer room long nuffink haha fank updat', 'morninggg bout shower n becom hair stylist neighbor communion church partyyyy http twitpic com emor', 'back school get cruel one thing true man look heart big enough two', 'quot peopl chang promis broken quot statement never true', 'take af today sf come', 'realli hope get noth product done today goal', 'profil pic work yay donnett', 'therealmrriley aww damnn not good hope u feel ok real soon babe x', 'london goate one want see one obscur', 'lindil well sneaki fieldmous hous scutter around like alien hous', 'realsamcart thank hope well', 'thisisbigrox follow pleas', 'askleo want say great site lot info find answer mine though', 'back bali', 'forgot like degre weather everi day fun sweat death even bike ride ugh', 'ahh watch real housew nj end', 'farihaak nope home enjoy last day vacat know miss home food', 'thesaragilbert guess twitter insomniac dream someon alway chat', 'dontcallmemurs hug', 'lovetoblog hey thank offer experi', 'great day miss milkman', 'dear insomnia pleas go away kthnxbai love kat', 'regist forget introduc tell us like technolog comput welcom section', 'tire tire tire zzzzz good partayyy tho', 'jonjordan w glad hear though miss watch outsid igloo day', 'think im come cold not good not good', 'anyon wanna come round amp watch stardust im feel lone', 'gosh though ti would ever say love learn shit learn realli help day day life learn ppl', 'favorit k kendra starscap stuck work tonight', 'sorri see go stever rest peac', 'khloekardashian camp without boat', 'drink day offici pppeeeeevvvv dodger', 'maryjenkin start last year group move everi year know daughter leader', 'believ unmask rey rey', 'wuhu go poker night', 'final go write stori didnt sinc febuari dont even rememb', 'nice sunni lost two follow wth haha cherri cherri boom boom', 'specialdewi bought new short well', 'cool hadnt heard hurt saw girlfriend lol jraquino live gt http ustr mmu', 'starv tri wait lunch eat leftov lasagna yum', 'ddlovato camp vacat', 'got buck disneyland tomorrow', 'vero sorri bout hang tough survivor pleas cri keep touch use mean', 'thechrisd slow hand clap', 'back behind dm today boy girl love sound snare bottom morn', 'mileycyru serious awesom', 'weeekend final pictur tomorrow work canobi project mayb bri hous sunday knoooow', 'remzolog use run window classic theme part vista life recent start use aero tht', 'uhhuhhermus storenvi im', 'sassisam australia distributor issu hope back time sorri', 'katiach hahaha hear', 'love much know feel way', 'hurt miss coco linsey sleepov parent drag spend quot qualiti time quot yacht', 'one twitter', 'gueesss get readi horribl day', 'darlingwind well take long thought might done sleep good luck', 'rejoicemysoul exam time ap aim much', 'samesexsunday resist loveandgluttoni oscar wild would ever proud', 'tough day today tomorrow new day', 'bethenni love one', 'dac still havnt seen movi', 'today big open day show still ill', 'iamjonathancook honestli say ur much better avril lavign', 'meetawflh use gelatin either', 'tex mex cuisin today miss one happi bunch save cook babi imagin', 'goodnight', 'savagestar anyway neurias ligo trent poy eip oti den toy aresei h europh mallon h germanoi mosher sta festiv ftain', 'jeffreecuntstar congratul mental year old', 'miss babi girl laker da next champ', 'muhreeuhh love u', 'oxfordfilmfreak peopl dress anymor comment guess nobodi goe front theater sing danc', 'damn meazyva u need em blunt roll lighter', 'friday gym work chill', 'need sun shine go beach minut away tortur not abl take advantag', 'wut googl gmail anyon not load', 'shit di go bed amp put alarm wake wake fall asleep wake pm buhuu suck', 'sargentwilcox yah color like bad color except orang one ment hug color didnt want orang', 'watch young frankenstein talk real comedi', 'rak peac went pray visit aunt lunch amaz need lot self control wen p time karak p', 'mn longer feel like home miss chicago real bad', 'sigh kind miss bf lame', 'dannymcfli lol good luck x ded good anyway', 'goodmorn twitter world anoth great day ahead', 'tap shoe make feet hurt', 'wilsonmesa cheer', 'lovekota quick wow short live', 'adaggio got tattoo hand look sick', 'jakemaydayp good luck bingo tonight faith', 'sweetanddark okay tri thankyou', 'nathi miss love', 'ish busi bee roleplay', 'blackberri batteri low without charger hate micro usb', 'yaayaya final summmmer tummi ach frostingg', 'finish wash dish put trash clean window blind next call domest', 'post much next day hang cat sitter', 'queenaime good luck today aime sorri make', 'like movi theater realli want see shall see', 'jab last month time', 'twitter en mi facebook', 'ok skittl bed got havoc wreak tomorrow see lol goodnight sweet dream love', 'home readi good sesh twitter tbh', 'wing tonight cav', 'starzseek sarah prison break michael gf end sad tear', 'realli want foam mattress wanna spend', 'need somewher love birthday dinner peopl central london budget pp drink tierra brindisa small', 'sooo hot outsid hate stuck insid revis', 'got back doctor home alon', 'also seem brought weather welcom', 'lornatweettweet thank ladi jealou andrea work date meeeeeee', 'karankin bought alarm cd dvd holder nail polish cute hairpin love danc clip fun', 'bore amp think heat stroke', 'ginacena not part tn not still lol', 'jslaker alstair fuck dbag know sure stinger either screw guy go home', 'schofe love great', 'headach worst', 'opentheharbor sweet thank share sometim forget amaz amp thing said us', 'hate revis right', 'watch kobe doin work insid bed http bit ly jjn g', 'take shower get dress amp readi sidmo amp butch afternon', 'spotifi keep updat catalogu almost daili tell us mani track total would cool', 'mcraddict special', 'final ad song cellphon ipod final ipod charg must download app', 'angelamaria italian basic', 'backkk peopl woot im tire haha', 'valiportermusiq what idea', 'daniwright man think possibl alway one parti fall boooooo', 'gonna attempt fall asleep shall funnnn', 'ummajor like laugh good time follow simpl', 'love night emili today', 'ironmik ironmik big baller pick hahaha', 'sun day quot coon eye quot van think hilari', 'realli go watch brother sister break bad damn roomi', 'rose noooo tequila good forc home becau knew would strike day work', 'got bombest sandwich made chelsea', 'mr roboto queen styx g mod http bit ly kwauu nope live man free', 'one hour go today not sure make ugh', 'pic not show', 'pswam nice link visual bay use venn diagram good tast talk talk zawodni last week', 'meet old buddi mine afternoon starbux design work morn mr let', 'want see roswel season noth work', 'beachypeach good court gnocchi postpon right tool go dinner luke tomorrow night xx', 'start tweet languag romanian stefantro english want spam dear follow nois', 'sandracha nice haha wish bare miner work', 'enjoy famili time hope abl make grace exit enjoy friend time soon', 'someth ate want stay stupid bar food', 'vivian im decid new iphon htc dream blackberri', 'marissalevi thank check top shop tempt go may pass', 'http twitpic com f snow dayyy', 'pleas give mac depriv geek mbp long miss non work code', 'ugh hate hair much', 'sweetu ria kid r uncoordin sport dept', 'hello im design look freelanc job web graphic illustr print let know', 'sort horribl cold flu setttl glad day feel miser', 'seattl vcr olympia vcr work pleas call jd http tinyurl com dbv n', 'impuls thank offer call week brought lunch go pass', 'ddlovato demi come rescu invis children therescu invisiblechildren com', 'tri hard resist eat kid easter egg', 'best friend world left sweetest messag im gonna cri', 'funni common sens goe window extrem one polit left right make partisan point iran', 'back work chanc run morn si law littl g kept wake scream plan run tonight', 'majorspoil majorspoil com problem cannot get site work', 'hoancai welcom', 'gave listen ashley tisdal leak album realli love tell lie', 'paid fine', 'sushil calcul assess ralli continu buy order still come', 'bfnew believ photoshop answer question', 'op forgot mention feel lucki tweet whatev mind tag squarespac might win iphon', 'xxannasxx nice day', 'shower clean', 'ive got school visitor famili leav', 'mcg nice day miriam ttyl', 'steveheali na work agenc cancel hour today', 'wow worship bounc amaz proud chines pair huge victori long time come', 'bayareacheap thank wax museum advic unfort late bookmark page awesom', 'ahh throat sore serv right', 'thatboygotsol thank', 'look fierc smoke cigarett miss mac dog', 'suddenli decid jump montana woke find still besid disappoint mad', 'kmc lol mud fight light verbal banter', 'went well rediscov actual like public speak energ met great peopl', 'woman zer ditto mine well sigh', 'bu wanna go school', 'smithant coffe friday morn sound great meet corpor bigwig lunch', 'love bass could play http twitpic com semm', 'woke sick temp stomach ach dizzy', 'past thorp park awesom miss sam blow meh driven back sweetli gerri cool machinist awesom shit', 'write busi propos chang life right gussal', 'nategilbert haha okay sound good let plan videochat pleas class bore without xd', 'go pool today lindsay wed amp recept tonight gonna awesom day thank lord', 'ok break follow later mani nice friend take great ppl follow awesom talk', 'pupil made water agenda happi happi dayyyi', 'mmitchelldaviss epicnesss lawl', 'k zulu u know tell u mani experi ruin tri follow ya tweet twitter jack product', 'lisa veronica jessicaveronica realli cant express much girl made happi rd may http bit ly qeufc lt lt lt lt lt lt', 'manag find bottl pimm weather go', 'mean wednesday night lol let know u make love meet everyon', 'fuck yeah turn', 'sherijo assum noth opposit', 'wick tire today readi relax weekend without mnearhoff', 'ianquigley born rais kent move north leed left home cork via pari', 'toddmclain oh', 'london pub anti year old premis took us much surpris weekend', 'deepakarora tri least common courtesi', 'asot imo best way drop yesterday set mp player chill bed', 'ncredibl magic vs laker final hate typin lt good job tho', 'wonder girl ever go sleep', 'silli happi quit silli though', 'saturrrday think im gonna seem easier want funki page im not good html shit', 'maggadoo liar last word quot call u later quot said ye good dont worri', 'xkayteebear shrug think enuff mean im everyth b easier im', 'hed che wow congratul', 'feel realli great walk eat pizza ruin', 'robgarciasj fri cours', 'onlinefict sok allow blond moment two', 'kevindavi crave cool everyth drunk', 'end june begin juli awesom lot show', 'xbox live still xboxliv', 'jbillingsley great idea wait cart purchliv solv problem right place right time', 'randilynn hairdid cute peopl make fish face often sure', 'pirat game sat sun work monday tue thur work friday saturday ocean citi sunday', 'love new shoe l v n g wish leg could match beauti', 'byeby fishi brother miss alreadi', 'bookmark browser like friendfe bookmark delici diigo academ research citat manag need aggreg', 'even though c c made name cool imo follow ashliamari ceece tv parent hood cool young ladi', 'realli import exam that stop tweet', 'jessstroup http twitpic com cjdk awesom', 'msj wish could say', 'internet home world wide web get readi krono overload', 'wish um pois peer sure friend back home probabl grown friendship', 'ben harper yeah one semest left project finish final', 'excit see new zero punctuat rss reader rememb rss suck', 'sick take nap', 'take shower get earli start day noth mayb take pictur today', 'get sold alfr', 'everi band lt evolv band dont lt bullet valentin underoath aveng x flame alexisonfir', 'xbriell im dumb thought tuesday not tonight im devo how goingg', 'hurstakamiwurdz doh read review wish seen monkey babi', 'psychedelicbab quot polit term quot teabag', 'hmmmmm u think im rite', 'jaydciel lolol love adopt alreadi hahaha', 'alexisacosta ahhhh jeez freakin hilari seen add happi friday http bit ly knojz', 'teifion thank glad like flower made diamond', 'nhoustonre aw late made delici homemad chicken noodl soup yesterday friday', 'thought yesterday workout bad ugh felt like go throw everywher today much harder lt e gt', 'http twitpic com cea knew jon lonesom cruis meet amp greet photo', 'dreafabul yuck', 'poirot doesnt start yet like half hour left im watch video youtub watch amaz cover climb', 'mat newman not prolif tweeter', 'franmagbu ador miss', 'hang christin cuz bday feel bad cuz not enough ppl show parti', 'siarahroseyi stop harsh shez aha xo lt', 'come cleveland', 'vonnysmel sound fun wanna play footbal come', 'larissa sg ye ye bluri ahh soo cute said lechuga lettuc said fiesta lt amaz gt', 'get baptiz today', 'work hr minut return dresssss', 'sushikat afraid big trip plan summer bro wed wi week tx back uah summer class', 'zachallstar need texa show', 'oh gosh month fuck get old', 'cassade pope taylor swift movi stress free youtub myspac facebook graduat sad', 'excit week look forward', 'play rockband busmat', 'angeley hehe thank summer come relax', 'worrallo nah octagon let rent differ type hous work bill shizz', 'graduat tonight yay watch hellfirecomm', 'live new york justin timberlak', 'sit date put spot join pal awesom direct pro', 'yum not got free food rt elpollolocoinc fyi still offer gift voucher pack th follow', 'bore huaaa hungri tummi grumbelin', 'ajuonlin especi phone voic sound like mum', 'snickerdoodl get wors hahahaha', 'jedi master good one', 'major thunderstorm come thru ago power complet', 'alleyshook everyoneee youuuu lt xoxoxox', 'not gonna good day tomorrow', 'lizzi e lol alright suppos quot alright quot mean know im gonna lot thing la tminut', 'jam rock spock', 'http twitpic com ff vagelisv', 'marianna b got thank see ya tomorrow', 'bertawoost bought antiqu windsor castl pictur stamp video', 'join twitter', 'emmythecat cheat realli disappoint', 'sad not symbian phone', 'shontel layn hi shontel say hi littl cousin katherin love tshirt xx', 'jam finger bathroom stall door', 'weekend keep get wors wors extra nin ticket holmdel nj show not happi', 'emporium min', 'want ciggarett', 'dougiemcfli oh poor doug cure u', 'esmeeworld got album', 'miszmari singl', 'sure', 'jimmi shout quot crosstown traffic quot much stuck traffic time watch listen podcast', 'lilceas im still cant sleep', 'sianhugh ahah yehh start rant manchest unit like like ranger he amaz imma comment later', 'final home get shower hous tonight', 'jonaslovato know feel im glad togeth happi', 'download parallel pc softwar run mac yeah exclus pc run softwar yet wast time', 'ever upset like lump throat stomach hurt', 'final got new mp player instal hebrew support fantast sandisk sansa lot better might think', 'busi work home hard get everyday stuff done leav hous sunris return hour later fb', 'attempt finish homework last minut school start tomorrow', 'dontbeaskeptik ok gave ticket virtchewu think want go still get', 'worst efin headch ever', 'busi day today got mother watch billiard cool', 'feel refresh great swim bad stupid cold got today', 'horukuru get quot cinema led cinema display drooool', 'irma icecream first night gonna get everi night gonna walk', 'sunday sooo bore', 'back hometown much day stoplight tripl size luckili mountain horizon ever chang', 'kinagranni yay ny gig boohoo play sd', 'total fix comput nickforb', 'seen schedul sport center espn less minut anoth one afterward might miss jimmi fallon', 'roburb thank alway help', 'pass mcd im hungri', 'jennywait awesom', 'hi mellyy haha nice analysi banaga would proud dude that chill im glad car didnt get stolen', 'got cold everybodi beach want starbuck', 'cahmenez read twilight im go start read new moon tomorrow cant wait pleas dont spoil im littl behind', 'cant footbal tournament like epl india', 'wheeldog tri not choke pressur', 'awww sick today', 'hope today better yesterday', 'go bed sleep good night', 'raethoven miss day late night stickam session job ftl', 'english tea bkfast chinup x row x fli x tabata pushup fail lunch bovin testicl primal video later', 'need go home straight bed not tri sick wed', 'recipegirl love lazi sunday like', 'marginatasnaili make sure oh treat nice breaki', 'chang set go bottom page select languag link left', 'last night fun got bad ancl', 'cambriadetken miss tooo littl one find hahahaa okay tell everyon famou person lost disneyland pass', 'go town bethani shop day theatr night go see rent hope good', 'amiraruzuar haha repli dumbass yea not much anymor', 'bakersdog thank tast realli good w bbq sauc mmmmm', 'nanci oxo worriess great ay sad chri weitz amaz job', 'lucylumcfli h samuel good one xx', 'johnchow wait new contest yaaaaaay', 'cannot sleep argh', 'wish peopl would repli need convers', 'got invit bambi parti birthday hate beach realli realli hate sand', 'bore skul end next week miiss everyon even wierd mean stupid ppl', 'miss dress wear fake eyelash wear ten layer makeup', 'last night dream father gone long yet still miss much', 'demiwood thank', 'theresanoel okay keep look', 'process told broken turkish local string compar quot instal quot quot instal quot true repro', 'god dess bless nonsens amp dens find document emot distract pain desir somewhat need', 'take med right', 'doodlebugftdor true true heartbroken caus bet end least kobe doin work lake show better rest caus', 'pastorroman welcom twitter check twitter tool help achiev goal http gd muh', 'kinamoto brace buddi heheh', 'blog updat window vista downgrad right leak hehe still go provid http tinyurl com pfug w', 'glad friday', 'blanezx sweetheart hope chat ya soon', 'check jax weather thunderstorm project week', 'dariddl agre unless cours ask bdsm', 'jennettemccurdi continu mu usernam jenettemccurdi thought would like know great day love k', 'owchi fell hurt self', 'erikaangel haha yesss lmaoooo like doubl chin smiley ddd', 'radio play baz luhrmann sunscreen song love song word describ', 'belli full still need get veggi alway challeng veggi not yummi candi', 'back amp exhaust travel great rift valley kenya one beauti countri well except deplet forest', 'taylorswift datelin special amaz record dvr watch later awesom', 'mrjdomingo oh sure good one', 'miss friend mean lot', 'serious think worst food coma ever okay', 'activ made tweet tweet not show search http tinyurl com nvsarj', 'watch dress', 'theellenshow excit wish pet', 'immunerock good luck monday keep rockin', 'board time min late alreadi statu updat hope flight time', 'tommcfli debbiefletch gfalcon love sooo funni http bit ly hbp', 'never even gotten dm anybodi hey jonathanrknight get piti dm lol', 'drinkhard chick het superchil', 'wow graduat night crazi wore need rest congrat class', 'deekdeekst nice know good someth', 'go buy dog food', 'wo ow today anniverseri make somth realli special came sad', 'realiz mani said joke jona lt', 'kyeung bah peopl weekend tweetup never go', 'ajcirca omg yay thank', 'home si think post monday might get one chapter tonight monday sorri', 'alexandronov yep lukehmus till shift stock count race wont excit though', 'csnew yay vickytcobra defeat demi lovato im vote like everi minut thank hint', 'head oglebay graduat', 'exercis morn head get help script readi audit tonight finger cross', 'claytonbel twitter not paper', 'send girl crush home sytycd', 'im withdrawl symptom new york', 'minniemoos dannytan hey feel discrimin', 'realiz nc meet time jazzi star', 'tweetycupcak hi joli watch bloodi state origin go blue suck today', 'kalimera twitterland simera brexei stin thessaloniki', 'pm laptop not work', 'yungcutup u come join work ur tan lmao', 'melodi wow awesom lunch dessert woohoo', 'home falon oooh good back wear two necklac time put new cloth away', 'hotpocket hair gone', 'amaz dinner homemad mexican food delici', 'yess', 'derekwm ye sir awesoem except miss church', 'whoaaaaaaa tngo twittereado', 'wish home', 'brandon ran away', 'hot sunni garden laptop consequ think die heat exhaust', 'ayden hang mcdonald breakfast', 'last day school go miss clasmat', 'lil meg sound awesom', 'realli wish someon would make soup rub head', 'khloeros ye feel work', 'touchdown atl lap babi make peep entir time', 'wee wee uuup hahaha', 'love machin chang coin bill im dollar richer', 'maikatft come back baltimor miss', 'aaronob everi time tri talk sign without say anyth', 'also excit roommat com portland comee', 'tombegley asot asot amp tatw amaz yea atm beach san mrb tho', 'eadvoc watch messag dominickevan need help websit', 'got offer job one day week soooo broke', 'hang cali lt', 'redfieldwin shakenbak bit new scientist week last week watership', 'sheisdanger best ignor remark', 'appl ask up delay deliveri iphon earlier tracker inidc would arriv thursday http tr im okuw', 'aw like much name', 'nathan made fun taylor swift shirt', 'sminklet omg pari hilton alreadi week dubai haha jealou', 'got new fridg amaz think first ever paid fridg alway hand down', 'use mum eo look teehe ili mum gt fuck nice slr want', 'inform mobypc tweet multipl link upon batch upload sorri unintent spam', 'van way home yoga parti suddenxsil get back', 'joshhalliday peston pic tonight mean owe pint', 'repli lil sister indonesia lil sister malaysia also time see lil bro matrikulasi news also hmm', 'eakiita haha pleas come play game mine though idk long hold', 'wit cant believ', 'jordanlindval cheer kiddo call need talk bit longer', 'sun mean fit guy strip good time', 'discov pete carri myf signatur rundown sheet march rove zac add', 'say quot not fall asleep quot energi open coke bottl', 'askeydesign oh poo', 'hate barometr pressur chang hurt head', 'wow chill litter emot tonight horribl amaz felt right', 'adixoxo day yesterdayyy lmao need help', 'buhrayaaan oh yeah song cool love especi fast lyric gnight', 'want bbbb', 'download game watch foxandfriend sign twitter', 'nathanfillion star trek perfect way celebr', 'lobosworth hope u fun', 'go confirm', 'jinx die', 'martinbowl quot brewski firkin bowl quot cute friendli dog guess http bit ly hq ep', 'shelbycobraaa girrrrrrrrl u come michaelmusso show cdpresent el cajon june th', 'sore yesterday', 'thesydneytart colleg age male overwhelmingli male demograph span age group', 'sorri man youtub lot bug late', 'freez rain', 'wendi come', 'bore gonna go carniv get day pass tomorrow excit bore today', 'grrr new clandestin gear hot shitti pete releas new gear week birthday til wait til christma', 'heromanc ooh hope video acoust set', 'right ipod go school tomorrow unlik', 'im wait facebook jona brother give webcam ajja dont kmnow say happi', 'airport troubl safe zone termin make tire', 'thebriananthoni u', 'momadvic subscrib feed person love go someon site b c want comment share lurv way', 'chore', 'found friend earn salari k plain quot type quot im jealousssss', 'bluebubbl ff hate vote jb', 'disappoint stupid', 'daaaavek last night went cinema mph tire burst crasi well miss movi', 'welp movi realli good tho', 'katydond umm mayb british spell', 'seem like vacat busier ever', 'dripp aw thank let know follow back bombard late w market amp nice ppl get buri mix', 'oklahoma wayyyyyi differen youth america', 'comput viru go dr today', 'princesssuperc realli good tour caus excel dancer', 'man nugget realli let today', 'lie bed ill', 'creando el drenellyo', 'salmon http tr im op client includ argo halford boot scott co ann summer amp homebas', 'gabbyfosho your talk sorryyi past person stuff opinion ive seen chang dont like', 'ohh got free day trial microsoft publish finish project well forgot one thing school almost done', 'sometim ok time love dad', 'jicasiano well matur also thrive physic connect long distanc relationship amp fun', 'phone gettin nerv wanna go home use lab top', 'take grandpa grandma great grandma airport', 'feel lone hate realli', 'heartofwisdom simliar interest', 'go outsid jump trampoin wooot', 'horribl back pain keep evan http plurk com p mkq', 'yey internet connect back ha ha', 'anybodi love hill use think bore im quit big fan dunno like look like real life', 'tire thing happen time', 'mood coke float two ingredi coke ice cream neither', 'soooo tire must wee man insist get went hour earlier plu got fed', 'watch nba live', 'woo pick hung neighbor vinc hous daughter sooo cute', 'kathyireland dameelizabeth', 'love sunday spend time chi zone famili church famili dinner', 'got shower feel earthquak go happen tonight', 'gain lb weight iv care chees blame', 'librarygrrrl aww alway afraid cut bunni nail', 'oneshortday x knoooow yeah kinda ran road away ugh idiot alex like x', 'boyceavenu one thing sure mother one proud mother univers guy', 'http tinyurl com nddawp lt someon explain joke dosent make snese', 'yeah drmani artmak prob one week school back ask headmast permiss staff mess us around', 'iamgaberosal want care though klepto might steal', 'flowchainsensei like think', 'u girl islikepon miss u', 'clean peopl mess', 'vanessamadg one come earli', 'iamdiddi make new album', 'itsartimu dylan binx amp princess anzu lol', 'sdmix miss michael sooooo much think upset worri', 'aw shuck doubl tripl quadrupl book weekend h wen dot gotta cancel someth h tellin ppl', 'sisutcliff hahaha oooppss would v v v bad crop work drunk', 'adrianogarcia ok tend use dongl nice know could even nicer know iphon', 'happiest', 'sunday wake earlier today', 'shaheen darl swear your alway p thank ill tri week anaversiri version orphan lol xx', 'phillysaxon oh dear god scare want life taken strang intrigu good', 'excit denis richard kendra tonight', 'thanx blackberri let stay intouch wiv world luv ya bb xd lol', 'bradiewebbstack short stack tend topicczzz', 'natashajonasx okay thank kind word', 'mspixieriot gl cant wait see get', 'anoint hey bed ur cute pic look peac r u', 'im go homesick imagin like go hawaii', 'tomorrow mom day know dad help homework', 'minastefan sexi dress love', 'awesom sick fall guy turn jerk swear guysd allerg must cooti', 'alway work beauti day', 'darthtraya yep make duck', 'jadelittish yeah horribl hate', 'good day especi lakeshow championship goodnight cyber world lt', 'sanjanasharma say mention look cute profil pic not', 'mileycyru hope fine miley', 'photo funnyguyaustin oh hell ye best one time doubt http tumblr com x wa bo', 'ak yeah lt sergioooooo aww lowri still cute even though seen dunno long', 'go fun week', 'peter pete pete lionhead let get readi get promis someth deliv xbox', 'iyesh think uncov one might one make reason one even tri someth like', 'tonight gonna b anyth like afternoon awesom time', 'onlin someon shoot', 'vi antenaweb melpimenta take breath away http blip fm c fi', 'perfectvenu sure', 'wonder twitter alway show broken link tri updat profil pic', 'man watchin go suck caus seat front', 'lownleeeynjul shit miss part', 'jessalu rip back much make batti focu mistak one els would notic', 'doh rush get puma open got pull sad', 'anntr ye not zack though omg nice guyssss', 'monkeysmus absolut penomen love love love love guy glad went thank come pa', 'guardianeco wish cloud around today', 'littlefishey doggi cant see', 'iamtwitswag like funni thank', 'shaycarl hurt littl dare shay carl im mad could hug', 'berni mac come back', 'well sunshin gone let hope make back sometim summer', 'damn cold', 'davidgregori good morn hope fun safe day today', 'tgif except get sick', 'kittychix um good question go whole unnecessari ordeal', 'phone almost dead', 'oreo ice cream soooo bomb guy wish u could tast yuuuummmmyyi lmao', 'poe realli annoy would usual play prego want noth sad', 'religi idiot pranc around citi morn loud obnoxi music litter almost everi street', 'hate overcast raini day', 'forgot mani great song mysteri band annielici http blip fm e qp', 'vain fortun think insomnia', 'hate keanudi freaknig suck greet', 'bass xl hey paul want know doubl bass plenti folk help', 'hmm visen work advanc amaz', 'close work tonight wish peopl would visit', 'carloswatson neighbor deliv greet messag receiv great hear degre separ', 'set twilight kiss quot wanna make love right na na quot wrong mtv movi award', 'numwan becas accompani cute dog', 'today would good day go swim bad work', 'go work go end back work buy food miss lt', 'mikkelmariu keep post rock', 'alancarr yay wait new show x', 'shout boy alex girl gave birth babi boy congrat', 'sorri twitter show follow peopl follow', 'waitin brother come caus go pinch laptop haha oh well xx', 'verg destroy solar fire', 'wonder peopl genuin nice want karma point via zenjar', 'treesmakeshad knoooow rain killin surf day', 'www officialcoria com', 'faerieimp ur bb wifi mine keep updat', 'ahhh wear', 'badeduc way', 'moomia tonit sorri djwillgat sway tmw', 'still awak peopl go wake full inbox morn ha', 'alessiarawr haha love song jo bro amaz', 'oh also cut nail giant steel cutter realli scare first got hang', 'brilliant day proud banahan even see much ball grrr awesom see corri lewsey bid farewel', 'michaela tesar not see repli ppl follow less twitter gener look like ppl talk fixrepli', 'get hookahloung mobil version tonight via hookahloung hero hookahloung net', 'think might pass test finger cross', 'gettin readi birthday parti holla', 'lamismaluna yea got pic put one photobucket love thank much made happi', 'insan rock hey come move offic let split cost site pa also kylesc seem like cool va twitter', 'blergh work not great thing empti stomach hr sleep', 'tommcfli plz say quot happi birthday roni amp mickey quot plz plz plz x', 'drag hell', 'saw moraa dread studi filld term', 'keyboard last day keyboard tomorrow delana last day goin kelci hous today church kinda nervou whatev', 'lucidcont oh got kid need remind quot arctic blast quot day', 'point hole not bad golf round', 'denzelburk beautim well wait that lie neck back shoulder ef', 'michel other bought present lucki', 'follow girl maluvsuniqu aint team player cool hell lol sorri folk insid joke', 'fabwrldgoodlif vote danc never done', 'damm loadingreadyrun new loadingtim cant watch sleep brother next', 'cyrandorman sound like fun hope migrain goe soon slept badli guess tri process lot', 'tommcfli read saga twilight read amaz enjoy answer make happi', 'heard tim tam automat thought atl sign jack snatch real fast haha', 'griev love dress return reveal', 'lidl scari moment', 'bore offer someth wish could see talk obv', 'send hug kiss mother heaven truli angel wish amaz mother day r p mom love', 'artguidodotorg guido newsman weatherman one u start show g day', 'gigi mari x x ohh gigi im super jeal u tell xoxo', 'midnightstori pleasur serious love read daili stori thank', 'babi sorri go last night threw twice hecka knock cuz move', 'midnightsunco hey great flower got way love rose', 'watch fair ladi', 'karensummerton wait u catch mango caus stori pm news mysteri mango sniper ga station', 'watch disney movi make miss disneyland', 'cantt waitt de hillss amp mtv movi award', 'regent lord lol scrunchi blast past drool dress', 'crazi snow went mow shovel three day wtf deep wet snow everyth soak tree snap keep', 'sipdrink feel pain', 'jalokimgraph lmao yeah sound serious strang think replac sound', 'annoy new phone thread view suck', 'manag get aliv happi also manag get friend', 'ivorella read yhur updat sooo jealou quot unpack photo shoot quot', 'therealjordin irememb quot time pack dream away live shell hid', 'respectmileyc stil want u heard bout attack indian student parent dont want go nemor', 'anoth morn anoth mile run not', 'final post holi week easter music blog next practic spend time w friend sacramento drabbl night', 'daddi bought let go europ budget stoke ionasing', 'jennytsang lol know want watch centr court', 'vamp haha luve tho got eaten end lol peopl knew serious tho write idk', 'need major cheer', 'frodofi sherrillaquinn gosh guy almost convinc write english thank sherril thank robert', 'http twitpic com jsp haha like would ever happen', 'wow watch not love mayra written love love love', 'serious ew final figur recent start smell occasion like vagu rotten egg fact rotten egg', 'ate waaay much food', 'stewartkri pretti funni happen peopl hack yall account sorri', 'hornykitten oh shit case forget coffe', 'yay everyth back', 'hey everybodi', 'leetmari even drink everyday not alcohol', 'membersofcolin noth embarrass', 'goldilock delici show awesom definit reliv show could', 'japan blog congratul love japanes children happi kodomo hi', 'guess appendix like anymor', 'enough close contact twitter follow friday followfriday', 'write new song', 'sick school time go home go lake', 'wifi foodcourt cover area', 'dentist check clean teeth pain', 'pretti happi thing chang past month definit best', 'ebassman chang hour twitter ya', 'xxpat hehe im ok kinda feel weird tummi hurt im littl scare go dentist morrow weissheitszahnop', 'juz finish class brows relax home beauti day', 'half hour lectur complaint custom talk price', 'new nail colour dark angel mac', 'oliviamunn eat w siracha hot sauc', 'freakgoddess case see good afternoon good even good night', 'bed still soooo hope feel well enough get britney tomorrow', 'x maxin x ahah shoulddd what stoppin ye yeh', 'lunchtim wait si call head lunch im hungri', 'th tiff haha lolol amp e aii alic bitch ha jkz xo lt ya', 'day start bad today went peac pagoda saw monk felt much better walk around lake', 'sorri find david carradin die miss kwai chang cain', 'jonasnessica hey check first chapter pleas thank http bit ly wvm that link', 'amv ph r thank', 'suha gehrer follow advic beginn add photo add descript start post cheer', 'actual sleep work tomorrow bore know love xoxo', 'luci sky cant hot sauna one steam eucalyptu amaz thing ever', 'havta goodby tomorrow', 'ddlovato last tweet not go wast time tweet someon appreci mean', 'matt civle tommangon randum believeanyway oldskhool giographix satoshisato thx ff', 'think need get pray sun tomorrow forcast rain', 'still lot mind decis make yayyy philli besti back good nyc soo love girl', 'podcast edit final finish go tomorrow thursday record issu tho andi', 'thank everyon hint tip attempt tri er begin twit twit twaroo x', 'tiffanyco cuz call nasti']\n"
          ],
          "name": "stdout"
        }
      ]
    },
    {
      "cell_type": "markdown",
      "metadata": {
        "id": "CLqmAkANCp1-",
        "colab_type": "text"
      },
      "source": [
        "## Creating the Bag of Words model"
      ]
    },
    {
      "cell_type": "code",
      "metadata": {
        "id": "qroF7XcSCvY3",
        "colab_type": "code",
        "colab": {}
      },
      "source": [
        "from sklearn.feature_extraction.text import CountVectorizer\n",
        "cv = CountVectorizer(max_features = 1500)\n",
        "X = cv.fit_transform(corpus).toarray()\n",
        "y = dataset.iloc[:, -1].values"
      ],
      "execution_count": null,
      "outputs": []
    },
    {
      "cell_type": "markdown",
      "metadata": {
        "id": "DH_VjgPzC2cd",
        "colab_type": "text"
      },
      "source": [
        "## Splitting the dataset into the Training set and Test set"
      ]
    },
    {
      "cell_type": "code",
      "metadata": {
        "id": "qQXYM5VzDDDI",
        "colab_type": "code",
        "colab": {}
      },
      "source": [
        "from sklearn.model_selection import train_test_split\n",
        "X_train, X_test, y_train, y_test = train_test_split(X, y, test_size = 0.20, random_state = 0)"
      ],
      "execution_count": null,
      "outputs": []
    },
    {
      "cell_type": "markdown",
      "metadata": {
        "id": "VkIq23vEDIPt",
        "colab_type": "text"
      },
      "source": [
        "## Training the Naive Bayes model on the Training set"
      ]
    },
    {
      "cell_type": "code",
      "metadata": {
        "id": "DS9oiDXXDRdI",
        "colab_type": "code",
        "colab": {}
      },
      "source": [
        "from sklearn.naive_bayes import GaussianNB\n",
        "classifier = GaussianNB()\n",
        "classifier.fit(X_train, y_train)"
      ],
      "execution_count": null,
      "outputs": []
    },
    {
      "cell_type": "markdown",
      "metadata": {
        "id": "1JaRM7zXDWUy",
        "colab_type": "text"
      },
      "source": [
        "## Predicting the Test set results"
      ]
    },
    {
      "cell_type": "code",
      "metadata": {
        "id": "Iif0CVhFDaMp",
        "colab_type": "code",
        "colab": {
          "base_uri": "https://localhost:8080/",
          "height": 1000
        },
        "outputId": "1266c3f2-d500-440e-d756-e0eabad504a7"
      },
      "source": [
        "y_pred = classifier.predict(X_test)\n",
        "print(np.concatenate((y_pred.reshape(len(y_pred),1), y_test.reshape(len(y_test),1)),1))"
      ],
      "execution_count": null,
      "outputs": [
        {
          "output_type": "stream",
          "text": [
            "[[1 0]\n",
            " [1 0]\n",
            " [1 0]\n",
            " [0 0]\n",
            " [0 0]\n",
            " [1 0]\n",
            " [1 1]\n",
            " [1 0]\n",
            " [1 0]\n",
            " [1 1]\n",
            " [1 1]\n",
            " [1 1]\n",
            " [1 0]\n",
            " [1 1]\n",
            " [1 1]\n",
            " [1 1]\n",
            " [0 0]\n",
            " [0 0]\n",
            " [0 0]\n",
            " [1 1]\n",
            " [0 0]\n",
            " [0 1]\n",
            " [1 1]\n",
            " [1 0]\n",
            " [1 0]\n",
            " [0 1]\n",
            " [1 1]\n",
            " [1 1]\n",
            " [1 1]\n",
            " [0 0]\n",
            " [1 1]\n",
            " [1 1]\n",
            " [1 1]\n",
            " [1 1]\n",
            " [1 1]\n",
            " [0 0]\n",
            " [1 0]\n",
            " [0 0]\n",
            " [1 0]\n",
            " [1 1]\n",
            " [1 1]\n",
            " [1 0]\n",
            " [1 1]\n",
            " [0 0]\n",
            " [0 0]\n",
            " [0 0]\n",
            " [1 0]\n",
            " [1 0]\n",
            " [0 0]\n",
            " [0 0]\n",
            " [1 1]\n",
            " [1 1]\n",
            " [1 1]\n",
            " [1 1]\n",
            " [1 0]\n",
            " [0 0]\n",
            " [1 1]\n",
            " [1 1]\n",
            " [0 0]\n",
            " [1 1]\n",
            " [1 0]\n",
            " [0 0]\n",
            " [1 0]\n",
            " [1 0]\n",
            " [1 1]\n",
            " [0 0]\n",
            " [1 1]\n",
            " [1 1]\n",
            " [1 1]\n",
            " [1 0]\n",
            " [1 1]\n",
            " [1 1]\n",
            " [1 1]\n",
            " [1 1]\n",
            " [0 0]\n",
            " [1 0]\n",
            " [1 1]\n",
            " [0 1]\n",
            " [0 0]\n",
            " [1 1]\n",
            " [0 0]\n",
            " [1 1]\n",
            " [1 1]\n",
            " [0 0]\n",
            " [1 1]\n",
            " [1 1]\n",
            " [1 0]\n",
            " [0 0]\n",
            " [1 1]\n",
            " [1 0]\n",
            " [0 0]\n",
            " [1 1]\n",
            " [0 0]\n",
            " [0 0]\n",
            " [1 0]\n",
            " [1 1]\n",
            " [1 0]\n",
            " [1 1]\n",
            " [1 1]\n",
            " [1 0]\n",
            " [0 1]\n",
            " [1 1]\n",
            " [1 1]\n",
            " [1 0]\n",
            " [0 1]\n",
            " [1 0]\n",
            " [1 1]\n",
            " [1 1]\n",
            " [0 0]\n",
            " [0 1]\n",
            " [0 1]\n",
            " [1 1]\n",
            " [0 0]\n",
            " [1 0]\n",
            " [1 1]\n",
            " [0 0]\n",
            " [1 1]\n",
            " [1 1]\n",
            " [1 1]\n",
            " [1 1]\n",
            " [1 1]\n",
            " [0 0]\n",
            " [1 1]\n",
            " [1 0]\n",
            " [0 0]\n",
            " [0 0]\n",
            " [1 1]\n",
            " [1 0]\n",
            " [0 0]\n",
            " [1 1]\n",
            " [1 0]\n",
            " [1 1]\n",
            " [0 0]\n",
            " [0 0]\n",
            " [1 1]\n",
            " [1 1]\n",
            " [1 1]\n",
            " [1 1]\n",
            " [1 1]\n",
            " [1 0]\n",
            " [0 1]\n",
            " [1 1]\n",
            " [1 1]\n",
            " [0 0]\n",
            " [1 0]\n",
            " [0 0]\n",
            " [1 0]\n",
            " [1 1]\n",
            " [1 1]\n",
            " [1 1]\n",
            " [1 1]\n",
            " [0 1]\n",
            " [1 1]\n",
            " [1 1]\n",
            " [1 0]\n",
            " [0 0]\n",
            " [1 1]\n",
            " [1 1]\n",
            " [1 1]\n",
            " [1 0]\n",
            " [1 0]\n",
            " [0 0]\n",
            " [0 1]\n",
            " [1 1]\n",
            " [0 0]\n",
            " [0 0]\n",
            " [1 0]\n",
            " [0 0]\n",
            " [0 0]\n",
            " [0 1]\n",
            " [0 0]\n",
            " [1 1]\n",
            " [1 1]\n",
            " [0 0]\n",
            " [0 0]\n",
            " [1 1]\n",
            " [0 0]\n",
            " [1 1]\n",
            " [0 0]\n",
            " [0 1]\n",
            " [1 1]\n",
            " [0 0]\n",
            " [0 0]\n",
            " [1 0]\n",
            " [0 0]\n",
            " [1 1]\n",
            " [0 0]\n",
            " [1 1]\n",
            " [0 0]\n",
            " [1 1]\n",
            " [1 1]\n",
            " [0 0]\n",
            " [1 0]\n",
            " [1 0]\n",
            " [1 1]\n",
            " [0 0]\n",
            " [1 1]\n",
            " [1 1]\n",
            " [1 0]\n",
            " [1 1]]\n"
          ],
          "name": "stdout"
        }
      ]
    },
    {
      "cell_type": "markdown",
      "metadata": {
        "id": "xoMltea5Dir1",
        "colab_type": "text"
      },
      "source": [
        "## Making the Confusion Matrix"
      ]
    },
    {
      "cell_type": "code",
      "metadata": {
        "id": "Xj9IU6MxDnvo",
        "colab_type": "code",
        "colab": {
          "base_uri": "https://localhost:8080/",
          "height": 68
        },
        "outputId": "43efba29-9811-4913-a085-8355ec1c02cb"
      },
      "source": [
        "from sklearn.metrics import confusion_matrix, accuracy_score\n",
        "cm = confusion_matrix(y_test, y_pred)\n",
        "print(cm)\n",
        "accuracy_score(y_test, y_pred)"
      ],
      "execution_count": null,
      "outputs": [
        {
          "output_type": "stream",
          "text": [
            "[[55 42]\n",
            " [12 91]]\n"
          ],
          "name": "stdout"
        },
        {
          "output_type": "execute_result",
          "data": {
            "text/plain": [
              "0.73"
            ]
          },
          "metadata": {
            "tags": []
          },
          "execution_count": 8
        }
      ]
    }
  ]
}
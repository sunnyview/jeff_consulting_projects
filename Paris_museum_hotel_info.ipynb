{
  "nbformat": 4,
  "nbformat_minor": 0,
  "metadata": {
    "kernelspec": {
      "display_name": "Python 3.5",
      "name": "python3",
      "language": "python"
    },
    "language_info": {
      "mimetype": "text/x-python",
      "nbconvert_exporter": "python",
      "version": "3.5.5",
      "name": "python",
      "file_extension": ".py",
      "pygments_lexer": "ipython3",
      "codemirror_mode": {
        "version": 3,
        "name": "ipython"
      }
    },
    "colab": {
      "name": "Paris_museum-hotel info.ipynb",
      "provenance": [],
      "collapsed_sections": []
    }
  },
  "cells": [
    {
      "cell_type": "markdown",
      "metadata": {
        "collapsed": true,
        "id": "koh_iQIi7k-L",
        "colab_type": "text"
      },
      "source": [
        "# Project - Paris hotel and museum locations\n",
        "### Applied geospatial data for business application"
      ]
    },
    {
      "cell_type": "markdown",
      "metadata": {
        "id": "IoIlbQ-N7k-N",
        "colab_type": "text"
      },
      "source": [
        "## Table of contents\n",
        "* [Introduction: Business Problem](#introduction)\n",
        "* [Data and Method](#data)\n",
        "* [Analysis](#analysis)\n",
        "* [Results and Discussion](#results)\n"
      ]
    },
    {
      "cell_type": "markdown",
      "metadata": {
        "id": "D0-vQuGh7k-O",
        "colab_type": "text"
      },
      "source": [
        "\n",
        "\n",
        "## Introduction: Business Problem <a name=\"introduction\"></a>"
      ]
    },
    {
      "cell_type": "markdown",
      "metadata": {
        "id": "_oev1hRD7k-P",
        "colab_type": "text"
      },
      "source": [
        "In this project we will try to find an optimal location for a hotel. Specifically, this report will be targeted to stakeholders interested in opening an **hotel** in **Paris**, France.\n",
        "\n",
        "Since there are lots of hotels, thousands in Paris already, we will try to detect **locations that are not already crowded with hotels**. We are also particularly interested in **hotels that are very close museums**. because choose hotels based on walking distance to major museums. With google and experdia provides geolocation info, today's travelers are better informed than ever before.  Because many visitors spend lots of time going to those museums, how close the hotel to museums become determining factors in making choices.  \n",
        "\n",
        "We will use our data science powers to generate most promissing neighborhoods based on this criteria. Advantages of each area will then be clearly expressed so that best possible final location can be chosen by stakeholders."
      ]
    },
    {
      "cell_type": "markdown",
      "metadata": {
        "id": "TOJF5b0M7k-Q",
        "colab_type": "text"
      },
      "source": [
        "## Data <a name=\"data\"></a>"
      ]
    },
    {
      "cell_type": "markdown",
      "metadata": {
        "id": "ypWILbEv7k-R",
        "colab_type": "text"
      },
      "source": [
        "Based on definition of our problem, factors that will influence our decission are:\n",
        "* number of existing hotels near major museums \n",
        "* number of and distance to major museums in the neighborhood, if any\n",
        "\n",
        "Following data sources will be needed to extract/generate the required information:\n",
        "* Major museums in Paris.  use **Foursquare Maps search**\n",
        "* Find geolocation data of those museums, using **Foursquare API**\n",
        "* based on geolcation data, find out how many hotels are near each museum, and distance between those hotels and the major musuem"
      ]
    },
    {
      "cell_type": "markdown",
      "metadata": {
        "id": "yKYdQAJR7k-S",
        "colab_type": "text"
      },
      "source": [
        "### Museums Candidates in Paris\n",
        "\n",
        "Let's search and download latitude & longitude coordinates for all major museums in Paris. First we search all museum in 10km circle of Paris's center area.  I use Musee der Louvre as the city's landmark"
      ]
    },
    {
      "cell_type": "code",
      "metadata": {
        "id": "rXJ7L8-6PSiU",
        "colab_type": "code",
        "colab": {
          "base_uri": "https://localhost:8080/",
          "height": 50
        },
        "outputId": "f727bbf0-be19-4b60-e528-64ace83a58a9"
      },
      "source": [
        "import requests # library to handle requests\n",
        "import pandas as pd # library for data analsysis\n",
        "import numpy as np # library to handle data in a vectorized manner\n",
        "import random # library for random number generation\n",
        "\n",
        "#!conda install -c conda-forge geopy --yes \n",
        "from geopy.geocoders import Nominatim # module to convert an address into latitude and longitude values\n",
        "\n",
        "# libraries for displaying images\n",
        "from IPython.display import Image \n",
        "from IPython.core.display import HTML \n",
        "    \n",
        "# tranforming json file into a pandas dataframe library\n",
        "from pandas.io.json import json_normalize\n",
        "\n",
        "#!conda install -c conda-forge folium=0.5.0 --yes\n",
        "import folium # plotting library\n",
        "\n",
        "print('Folium installed')\n",
        "print('Libraries imported.')"
      ],
      "execution_count": null,
      "outputs": [
        {
          "output_type": "stream",
          "text": [
            "Folium installed\n",
            "Libraries imported.\n"
          ],
          "name": "stdout"
        }
      ]
    },
    {
      "cell_type": "code",
      "metadata": {
        "id": "gzo1sfHUl7hi",
        "colab_type": "code",
        "colab": {
          "base_uri": "https://localhost:8080/",
          "height": 34
        },
        "outputId": "86804bfd-42c8-47aa-f81b-7b8e66892ff9"
      },
      "source": [
        "#!conda install -c conda-forge geopy --yes \n",
        "from geopy.geocoders import Nominatim\n",
        "import requests\n",
        "\n",
        "address = 'musee louvre, paris'\n",
        "\n",
        "geolocator = Nominatim(user_agent=\"foursquare_agent\")\n",
        "location = geolocator.geocode(address)\n",
        "latitude = location.latitude\n",
        "longitude = location.longitude\n",
        "print(longitude,latitude)\n",
        "\n"
      ],
      "execution_count": null,
      "outputs": [
        {
          "output_type": "stream",
          "text": [
            "2.3460263 48.8559492\n"
          ],
          "name": "stdout"
        }
      ]
    },
    {
      "cell_type": "code",
      "metadata": {
        "id": "exnOU7v0V0a9",
        "colab_type": "code",
        "colab": {}
      },
      "source": [
        "\n",
        "\n",
        "CLIENT_ID='TYA12D30SGILHZKK3OMGASL5PB141TTBLGZPZJFI3SMMAZPB'\n",
        "CLIENT_SECRET='H1BHR3AMZ1UA5KJTNGQQLGKSUE53LAPMVG45IEE15ATCGI2I'\n",
        "\n",
        "\n",
        "VERSION='20200630'\n",
        "search_query ='museum'\n",
        "radius=100000\n",
        "LIMIT=200\n",
        "\n",
        "paris_museum=[latitude, longitude]\n",
        "\n",
        "\n",
        "url = 'https://api.foursquare.com/v2/venues/search?client_id={}&client_secret={}&ll={},{}&v={}&query={}&radius={}&limit={}'.format(CLIENT_ID, CLIENT_SECRET, latitude, longitude, VERSION, search_query, radius, LIMIT)\n",
        "\n",
        "results = requests.get(url).json()\n",
        "results\n",
        "\n",
        "\n"
      ],
      "execution_count": null,
      "outputs": []
    },
    {
      "cell_type": "code",
      "metadata": {
        "id": "2YtqfZh_NrlS",
        "colab_type": "code",
        "colab": {
          "base_uri": "https://localhost:8080/",
          "height": 484
        },
        "outputId": "4a967685-48dc-49d7-d45f-f27baa989cc7"
      },
      "source": [
        "venues=results['response']['venues']\n",
        "df = json_normalize(venues)\n",
        "df.head()"
      ],
      "execution_count": null,
      "outputs": [
        {
          "output_type": "stream",
          "text": [
            "/usr/local/lib/python3.6/dist-packages/ipykernel_launcher.py:2: FutureWarning: pandas.io.json.json_normalize is deprecated, use pandas.json_normalize instead\n",
            "  \n"
          ],
          "name": "stderr"
        },
        {
          "output_type": "execute_result",
          "data": {
            "text/html": [
              "<div>\n",
              "<style scoped>\n",
              "    .dataframe tbody tr th:only-of-type {\n",
              "        vertical-align: middle;\n",
              "    }\n",
              "\n",
              "    .dataframe tbody tr th {\n",
              "        vertical-align: top;\n",
              "    }\n",
              "\n",
              "    .dataframe thead th {\n",
              "        text-align: right;\n",
              "    }\n",
              "</style>\n",
              "<table border=\"1\" class=\"dataframe\">\n",
              "  <thead>\n",
              "    <tr style=\"text-align: right;\">\n",
              "      <th></th>\n",
              "      <th>id</th>\n",
              "      <th>name</th>\n",
              "      <th>categories</th>\n",
              "      <th>referralId</th>\n",
              "      <th>hasPerk</th>\n",
              "      <th>location.address</th>\n",
              "      <th>location.lat</th>\n",
              "      <th>location.lng</th>\n",
              "      <th>location.labeledLatLngs</th>\n",
              "      <th>location.distance</th>\n",
              "      <th>location.postalCode</th>\n",
              "      <th>location.cc</th>\n",
              "      <th>location.city</th>\n",
              "      <th>location.state</th>\n",
              "      <th>location.country</th>\n",
              "      <th>location.formattedAddress</th>\n",
              "      <th>location.crossStreet</th>\n",
              "      <th>location.neighborhood</th>\n",
              "      <th>venuePage.id</th>\n",
              "    </tr>\n",
              "  </thead>\n",
              "  <tbody>\n",
              "    <tr>\n",
              "      <th>0</th>\n",
              "      <td>5a58f039065ef50b1f0addbc</td>\n",
              "      <td>Museum national d'histoire naturelle</td>\n",
              "      <td>[{'id': '4bf58dd8d48988d191941735', 'name': 'S...</td>\n",
              "      <td>v-1594393509</td>\n",
              "      <td>False</td>\n",
              "      <td>57 rue Cuvier</td>\n",
              "      <td>48.844320</td>\n",
              "      <td>2.356187</td>\n",
              "      <td>[{'label': 'display', 'lat': 48.84432, 'lng': ...</td>\n",
              "      <td>1493</td>\n",
              "      <td>75005</td>\n",
              "      <td>FR</td>\n",
              "      <td>Paris</td>\n",
              "      <td>Île-de-France</td>\n",
              "      <td>France</td>\n",
              "      <td>[57 rue Cuvier, 75005 Paris, France]</td>\n",
              "      <td>NaN</td>\n",
              "      <td>NaN</td>\n",
              "      <td>NaN</td>\n",
              "    </tr>\n",
              "    <tr>\n",
              "      <th>1</th>\n",
              "      <td>50b356c3e4b0d67c9a2cd74c</td>\n",
              "      <td>Bibliothèque Centrale du Museum National d'His...</td>\n",
              "      <td>[{'id': '4bf58dd8d48988d12f941735', 'name': 'L...</td>\n",
              "      <td>v-1594393509</td>\n",
              "      <td>False</td>\n",
              "      <td>38 rue Geoffroy-Saint-Hilaire</td>\n",
              "      <td>48.842600</td>\n",
              "      <td>2.355857</td>\n",
              "      <td>[{'label': 'display', 'lat': 48.84260006303128...</td>\n",
              "      <td>1651</td>\n",
              "      <td>75005</td>\n",
              "      <td>FR</td>\n",
              "      <td>Paris</td>\n",
              "      <td>Île-de-France</td>\n",
              "      <td>France</td>\n",
              "      <td>[38 rue Geoffroy-Saint-Hilaire, 75005 Paris, F...</td>\n",
              "      <td>NaN</td>\n",
              "      <td>NaN</td>\n",
              "      <td>NaN</td>\n",
              "    </tr>\n",
              "    <tr>\n",
              "      <th>2</th>\n",
              "      <td>4bde7569ffdec92829cae8a1</td>\n",
              "      <td>Galerie des Enfants du Muséum d'Histoire Natur...</td>\n",
              "      <td>[{'id': '4bf58dd8d48988d191941735', 'name': 'S...</td>\n",
              "      <td>v-1594393509</td>\n",
              "      <td>False</td>\n",
              "      <td>Grande Galerie de l'Évolution</td>\n",
              "      <td>48.842102</td>\n",
              "      <td>2.356178</td>\n",
              "      <td>[{'label': 'display', 'lat': 48.84210226236579...</td>\n",
              "      <td>1711</td>\n",
              "      <td>75005</td>\n",
              "      <td>FR</td>\n",
              "      <td>Paris</td>\n",
              "      <td>Île-de-France</td>\n",
              "      <td>France</td>\n",
              "      <td>[Grande Galerie de l'Évolution (36 rue Geoffro...</td>\n",
              "      <td>36 rue Geoffroy Saint-Hilaire</td>\n",
              "      <td>NaN</td>\n",
              "      <td>NaN</td>\n",
              "    </tr>\n",
              "    <tr>\n",
              "      <th>3</th>\n",
              "      <td>5574bd41498ed7be4e0806bd</td>\n",
              "      <td>Studio near Chatelet/Louvre museum</td>\n",
              "      <td>[{'id': '4bf58dd8d48988d1f8931735', 'name': 'B...</td>\n",
              "      <td>v-1594393509</td>\n",
              "      <td>False</td>\n",
              "      <td>Rue des Bourdonnais</td>\n",
              "      <td>48.860092</td>\n",
              "      <td>2.344984</td>\n",
              "      <td>[{'label': 'display', 'lat': 48.86009201431173...</td>\n",
              "      <td>467</td>\n",
              "      <td>75001</td>\n",
              "      <td>FR</td>\n",
              "      <td>Paris</td>\n",
              "      <td>Île-de-France</td>\n",
              "      <td>France</td>\n",
              "      <td>[Rue des Bourdonnais, 75001 Paris, France]</td>\n",
              "      <td>NaN</td>\n",
              "      <td>NaN</td>\n",
              "      <td>NaN</td>\n",
              "    </tr>\n",
              "    <tr>\n",
              "      <th>4</th>\n",
              "      <td>52f53832498e83d649ef3e97</td>\n",
              "      <td>Société des amis du museum</td>\n",
              "      <td>[{'id': '4bf58dd8d48988d1f1931735', 'name': 'G...</td>\n",
              "      <td>v-1594393509</td>\n",
              "      <td>False</td>\n",
              "      <td>57 Rue Cuvier</td>\n",
              "      <td>48.851611</td>\n",
              "      <td>2.343273</td>\n",
              "      <td>[{'label': 'display', 'lat': 48.85161142085224...</td>\n",
              "      <td>523</td>\n",
              "      <td>75005</td>\n",
              "      <td>FR</td>\n",
              "      <td>Paris</td>\n",
              "      <td>Île-de-France</td>\n",
              "      <td>France</td>\n",
              "      <td>[57 Rue Cuvier, 75005 Paris, France]</td>\n",
              "      <td>NaN</td>\n",
              "      <td>NaN</td>\n",
              "      <td>NaN</td>\n",
              "    </tr>\n",
              "  </tbody>\n",
              "</table>\n",
              "</div>"
            ],
            "text/plain": [
              "                         id  ... venuePage.id\n",
              "0  5a58f039065ef50b1f0addbc  ...          NaN\n",
              "1  50b356c3e4b0d67c9a2cd74c  ...          NaN\n",
              "2  4bde7569ffdec92829cae8a1  ...          NaN\n",
              "3  5574bd41498ed7be4e0806bd  ...          NaN\n",
              "4  52f53832498e83d649ef3e97  ...          NaN\n",
              "\n",
              "[5 rows x 19 columns]"
            ]
          },
          "metadata": {
            "tags": []
          },
          "execution_count": 12
        }
      ]
    },
    {
      "cell_type": "code",
      "metadata": {
        "id": "57mH_wDIO9JG",
        "colab_type": "code",
        "colab": {
          "base_uri": "https://localhost:8080/",
          "height": 34
        },
        "outputId": "f533c6c5-3e08-4885-8ae9-7eb2424414aa"
      },
      "source": [
        "df.shape"
      ],
      "execution_count": null,
      "outputs": [
        {
          "output_type": "execute_result",
          "data": {
            "text/plain": [
              "(38, 19)"
            ]
          },
          "metadata": {
            "tags": []
          },
          "execution_count": 317
        }
      ]
    },
    {
      "cell_type": "markdown",
      "metadata": {
        "id": "8YzOOqaY0w4I",
        "colab_type": "text"
      },
      "source": [
        "# In total, we find 38 major museums in metropolitan area of Paris.  \n",
        "##Lets see those 38 museum on a folium map"
      ]
    },
    {
      "cell_type": "code",
      "metadata": {
        "id": "kDPe5tqgUWlq",
        "colab_type": "code",
        "colab": {
          "base_uri": "https://localhost:8080/",
          "height": 822
        },
        "outputId": "6920cbf3-9566-4da4-e3c4-eb61d807de68"
      },
      "source": [
        "\n",
        "import folium\n",
        "\n",
        "location= (longitude,latitude)\n",
        "Paris_map = folium.Map(location, zoom_start=10)\n",
        "\n",
        "# create map of New York using latitude and longitude values\n",
        "# add markers to map\n",
        "\n",
        "for lat, lng, name, address in zip(df['location.lat'], df['location.lng'], df['name'], df['location.address']):\n",
        "    label = '{}, {}'.format(name, address)\n",
        "    label = folium.Popup(label, parse_html=True)\n",
        "    folium.Marker(\n",
        "        [lat,lng],\n",
        "#       radius=5,\n",
        "        popup=label,\n",
        "#       color='blue',\n",
        "#       fill=True,\n",
        "#      fill_color='#3186cc',\n",
        "#       fill_opacity=0.7,\n",
        "#        parse_html=False\n",
        ").add_to(Paris_map)  \n",
        "    \n",
        "Paris_map\n",
        "\n"
      ],
      "execution_count": null,
      "outputs": [
        {
          "output_type": "execute_result",
          "data": {
            "text/html": [
              "<div style=\"width:100%;\"><div style=\"position:relative;width:100%;height:0;padding-bottom:60%;\"><span style=\"color:#565656\">Make this Notebook Trusted to load map: File -> Trust Notebook</span><iframe src=\"about:blank\" style=\"position:absolute;width:100%;height:100%;left:0;top:0;border:none !important;\" data-html=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 onload=\"this.contentDocument.open();this.contentDocument.write(atob(this.getAttribute('data-html')));this.contentDocument.close();\" allowfullscreen webkitallowfullscreen mozallowfullscreen></iframe></div></div>"
            ],
            "text/plain": [
              "<folium.folium.Map at 0x7f665fe0bfd0>"
            ]
          },
          "metadata": {
            "tags": []
          },
          "execution_count": 5
        }
      ]
    },
    {
      "cell_type": "markdown",
      "metadata": {
        "id": "5Z5b14xl7k-s",
        "colab_type": "text"
      },
      "source": [
        "Let's visualize the data we have so far: city center, and major museum in Paris"
      ]
    },
    {
      "cell_type": "code",
      "metadata": {
        "id": "fYMg-xYoUWzg",
        "colab_type": "code",
        "colab": {}
      },
      "source": [
        ""
      ],
      "execution_count": null,
      "outputs": []
    },
    {
      "cell_type": "code",
      "metadata": {
        "id": "v33ChgnPsG3_",
        "colab_type": "code",
        "colab": {}
      },
      "source": [
        ""
      ],
      "execution_count": null,
      "outputs": []
    },
    {
      "cell_type": "markdown",
      "metadata": {
        "id": "C4Y_JZy87k_R",
        "colab_type": "text"
      },
      "source": [
        "## use Foursquare to find hotels location and distance\n",
        "Now that we have our location candidates, let's use Foursquare API to get info on hotels near each musem.\n",
        "\n",
        "We're interested hotels that are in walking, short distance to each museum.  specificaly, we are interested in hotels that are in 300 meters range of each 38 museums. "
      ]
    },
    {
      "cell_type": "markdown",
      "metadata": {
        "id": "d1tATO6AbRww",
        "colab_type": "text"
      },
      "source": [
        "## try to find hotels near those museum in paris"
      ]
    },
    {
      "cell_type": "code",
      "metadata": {
        "id": "J4uCNIX4bRJu",
        "colab_type": "code",
        "colab": {}
      },
      "source": [
        ""
      ],
      "execution_count": null,
      "outputs": []
    },
    {
      "cell_type": "code",
      "metadata": {
        "id": "-eH5GLRN7k_T",
        "colab_type": "code",
        "colab": {}
      },
      "source": [
        "\n",
        "def find_hotel(name, latitude, longitude):\n",
        "\n",
        "        CLIENT_ID='TYA12D30SGILHZKK3OMGASL5PB141TTBLGZPZJFI3SMMAZPB'\n",
        "        CLIENT_SECRET='H1BHR3AMZ1UA5KJTNGQQLGKSUE53LAPMVG45IEE15ATCGI2I'\n",
        "        \n",
        "        VERSION='20200630'\n",
        "        search_query ='hotel'\n",
        "        radius=300\n",
        "        LIMIT=100\n",
        "\n",
        "        url = 'https://api.foursquare.com/v2/venues/search?client_id={}&client_secret={}&ll={},{}&v={}&query={}&radius={}&limit={}'.format(\n",
        "            CLIENT_ID, \n",
        "            CLIENT_SECRET, \n",
        "            latitude, \n",
        "            longitude,\n",
        "            VERSION, \n",
        "            search_query, \n",
        "            radius, \n",
        "            LIMIT)\n",
        "\n",
        "        results = requests.get(url).json()\n",
        "        venues = results['response']['venues']\n",
        "        df2 = pd.json_normalize(venues)\n",
        "\n",
        "# tranform venues into a dataframe\n",
        "        df3=df2[['name', 'location.address','location.lat','location.lng','location.distance']]\n",
        "        df3['museum_name']=name\n",
        "\n",
        "        return df3\n"
      ],
      "execution_count": null,
      "outputs": []
    },
    {
      "cell_type": "code",
      "metadata": {
        "id": "w98LvsspYLXY",
        "colab_type": "code",
        "colab": {
          "base_uri": "https://localhost:8080/",
          "height": 101
        },
        "outputId": "6c37e358-e44a-439f-e402-af68255d17ad"
      },
      "source": [
        "name,longitude,lattitude='musee de louvre', 2.3460263, 48.8559492\n",
        "df3a=find_hotel(name, latitude, longitude)\n",
        "df3a\n",
        "\n",
        "\n",
        "columns=['name', 'location.address', 'location.lat', 'location.lng', 'museum_name']"
      ],
      "execution_count": null,
      "outputs": [
        {
          "output_type": "stream",
          "text": [
            "/usr/local/lib/python3.6/dist-packages/ipykernel_launcher.py:28: SettingWithCopyWarning: \n",
            "A value is trying to be set on a copy of a slice from a DataFrame.\n",
            "Try using .loc[row_indexer,col_indexer] = value instead\n",
            "\n",
            "See the caveats in the documentation: https://pandas.pydata.org/pandas-docs/stable/user_guide/indexing.html#returning-a-view-versus-a-copy\n"
          ],
          "name": "stderr"
        }
      ]
    },
    {
      "cell_type": "code",
      "metadata": {
        "id": "7HQ1X8WekqQZ",
        "colab_type": "code",
        "colab": {}
      },
      "source": [
        "df4=pd.DataFrame()\n",
        "\n",
        "names, latitudes, longitudes = df['name'],df['location.lat'], df['location.lng']\n",
        "\n",
        "for name, lattitude, longitude in zip(names, latitudes, longitudes):\n",
        "\n",
        "    df3=pd.DataFrame(find_hotel(name, latitude, longitude))\n",
        "    df4=pd.concat([df4,df3])\n",
        "\n"
      ],
      "execution_count": null,
      "outputs": []
    },
    {
      "cell_type": "code",
      "metadata": {
        "id": "UbHgVZh65a_m",
        "colab_type": "code",
        "colab": {
          "base_uri": "https://localhost:8080/",
          "height": 402
        },
        "outputId": "fb6c4a01-b7de-4839-87e1-677468551478"
      },
      "source": [
        "df34=pd.concat([df3a, df4])\n",
        "\n",
        "df34"
      ],
      "execution_count": null,
      "outputs": [
        {
          "output_type": "execute_result",
          "data": {
            "text/html": [
              "<div>\n",
              "<style scoped>\n",
              "    .dataframe tbody tr th:only-of-type {\n",
              "        vertical-align: middle;\n",
              "    }\n",
              "\n",
              "    .dataframe tbody tr th {\n",
              "        vertical-align: top;\n",
              "    }\n",
              "\n",
              "    .dataframe thead th {\n",
              "        text-align: right;\n",
              "    }\n",
              "</style>\n",
              "<table border=\"1\" class=\"dataframe\">\n",
              "  <thead>\n",
              "    <tr style=\"text-align: right;\">\n",
              "      <th></th>\n",
              "      <th>name</th>\n",
              "      <th>location.address</th>\n",
              "      <th>location.lat</th>\n",
              "      <th>location.lng</th>\n",
              "      <th>location.distance</th>\n",
              "      <th>museum_name</th>\n",
              "    </tr>\n",
              "  </thead>\n",
              "  <tbody>\n",
              "    <tr>\n",
              "      <th>0</th>\n",
              "      <td>Hôpital Hôtel-Dieu</td>\n",
              "      <td>1 place du Parvis Notre-Dame</td>\n",
              "      <td>48.854264</td>\n",
              "      <td>2.348327</td>\n",
              "      <td>252</td>\n",
              "      <td>musee de louvre</td>\n",
              "    </tr>\n",
              "    <tr>\n",
              "      <th>1</th>\n",
              "      <td>Hôtel Louvre Rivoli</td>\n",
              "      <td>7 rue Jean Lantier</td>\n",
              "      <td>48.858501</td>\n",
              "      <td>2.346504</td>\n",
              "      <td>286</td>\n",
              "      <td>musee de louvre</td>\n",
              "    </tr>\n",
              "    <tr>\n",
              "      <th>2</th>\n",
              "      <td>Hôtel Victoria Châtelet Paris</td>\n",
              "      <td>17 avenue Victoria</td>\n",
              "      <td>48.858120</td>\n",
              "      <td>2.346642</td>\n",
              "      <td>245</td>\n",
              "      <td>musee de louvre</td>\n",
              "    </tr>\n",
              "    <tr>\n",
              "      <th>3</th>\n",
              "      <td>Hôtel Britannique</td>\n",
              "      <td>20 avenue Victoria</td>\n",
              "      <td>48.858155</td>\n",
              "      <td>2.346339</td>\n",
              "      <td>246</td>\n",
              "      <td>musee de louvre</td>\n",
              "    </tr>\n",
              "    <tr>\n",
              "      <th>4</th>\n",
              "      <td>Hôtel Elixir</td>\n",
              "      <td>7 Rue Jean Lantier</td>\n",
              "      <td>48.858553</td>\n",
              "      <td>2.346538</td>\n",
              "      <td>292</td>\n",
              "      <td>musee de louvre</td>\n",
              "    </tr>\n",
              "    <tr>\n",
              "      <th>...</th>\n",
              "      <td>...</td>\n",
              "      <td>...</td>\n",
              "      <td>...</td>\n",
              "      <td>...</td>\n",
              "      <td>...</td>\n",
              "      <td>...</td>\n",
              "    </tr>\n",
              "    <tr>\n",
              "      <th>11</th>\n",
              "      <td>Hôtel Gouffier de Thoix</td>\n",
              "      <td>56 rue de Varenne</td>\n",
              "      <td>48.854800</td>\n",
              "      <td>2.321836</td>\n",
              "      <td>356</td>\n",
              "      <td>BLR Museum</td>\n",
              "    </tr>\n",
              "    <tr>\n",
              "      <th>12</th>\n",
              "      <td>Ministère de l'Éducation Nationale</td>\n",
              "      <td>110 rue de Grenelle</td>\n",
              "      <td>48.856647</td>\n",
              "      <td>2.320890</td>\n",
              "      <td>274</td>\n",
              "      <td>BLR Museum</td>\n",
              "    </tr>\n",
              "    <tr>\n",
              "      <th>0</th>\n",
              "      <td>Hotel De Ville de Serris</td>\n",
              "      <td>1 Place Gibraltar</td>\n",
              "      <td>48.856477</td>\n",
              "      <td>2.785602</td>\n",
              "      <td>142</td>\n",
              "      <td>Bmw Museum</td>\n",
              "    </tr>\n",
              "    <tr>\n",
              "      <th>1</th>\n",
              "      <td>Hôtel l'Elysée Val d'Europe</td>\n",
              "      <td>NaN</td>\n",
              "      <td>48.852835</td>\n",
              "      <td>2.783267</td>\n",
              "      <td>349</td>\n",
              "      <td>Bmw Museum</td>\n",
              "    </tr>\n",
              "    <tr>\n",
              "      <th>2</th>\n",
              "      <td>Adagio City Aparthotel</td>\n",
              "      <td>42 Cours Du Danube</td>\n",
              "      <td>48.855820</td>\n",
              "      <td>2.786821</td>\n",
              "      <td>219</td>\n",
              "      <td>Bmw Museum</td>\n",
              "    </tr>\n",
              "  </tbody>\n",
              "</table>\n",
              "<p>1047 rows × 6 columns</p>\n",
              "</div>"
            ],
            "text/plain": [
              "                                  name  ...      museum_name\n",
              "0                   Hôpital Hôtel-Dieu  ...  musee de louvre\n",
              "1                  Hôtel Louvre Rivoli  ...  musee de louvre\n",
              "2        Hôtel Victoria Châtelet Paris  ...  musee de louvre\n",
              "3                    Hôtel Britannique  ...  musee de louvre\n",
              "4                         Hôtel Elixir  ...  musee de louvre\n",
              "..                                 ...  ...              ...\n",
              "11             Hôtel Gouffier de Thoix  ...       BLR Museum\n",
              "12  Ministère de l'Éducation Nationale  ...       BLR Museum\n",
              "0             Hotel De Ville de Serris  ...       Bmw Museum\n",
              "1          Hôtel l'Elysée Val d'Europe  ...       Bmw Museum\n",
              "2               Adagio City Aparthotel  ...       Bmw Museum\n",
              "\n",
              "[1047 rows x 6 columns]"
            ]
          },
          "metadata": {
            "tags": []
          },
          "execution_count": 16
        }
      ]
    },
    {
      "cell_type": "markdown",
      "metadata": {
        "id": "9i4hrGg82qXn",
        "colab_type": "text"
      },
      "source": [
        "# In total, we found 1069 hotels that in walking distance from 38 major museums.  Our projects are to find a location to build a new hotel.  Hence, we like to find out which museums that have least hotels around them.  "
      ]
    },
    {
      "cell_type": "markdown",
      "metadata": {
        "id": "VHzIV6b846Eb",
        "colab_type": "text"
      },
      "source": [
        "## Lets count how many hotels are around each museum in 300 meters range. "
      ]
    },
    {
      "cell_type": "code",
      "metadata": {
        "id": "Aa2RG-7BHKXJ",
        "colab_type": "code",
        "colab": {
          "base_uri": "https://localhost:8080/",
          "height": 1000
        },
        "outputId": "042e251d-e24e-4ad1-c755-afa1e6781d81"
      },
      "source": [
        "\n",
        "hotel_count=df34.groupby(['museum_name']).count()\n",
        "\n",
        "hotel_count"
      ],
      "execution_count": null,
      "outputs": [
        {
          "output_type": "execute_result",
          "data": {
            "text/html": [
              "<div>\n",
              "<style scoped>\n",
              "    .dataframe tbody tr th:only-of-type {\n",
              "        vertical-align: middle;\n",
              "    }\n",
              "\n",
              "    .dataframe tbody tr th {\n",
              "        vertical-align: top;\n",
              "    }\n",
              "\n",
              "    .dataframe thead th {\n",
              "        text-align: right;\n",
              "    }\n",
              "</style>\n",
              "<table border=\"1\" class=\"dataframe\">\n",
              "  <thead>\n",
              "    <tr style=\"text-align: right;\">\n",
              "      <th></th>\n",
              "      <th>name</th>\n",
              "      <th>location.address</th>\n",
              "      <th>location.lat</th>\n",
              "      <th>location.lng</th>\n",
              "      <th>location.distance</th>\n",
              "    </tr>\n",
              "    <tr>\n",
              "      <th>museum_name</th>\n",
              "      <th></th>\n",
              "      <th></th>\n",
              "      <th></th>\n",
              "      <th></th>\n",
              "      <th></th>\n",
              "    </tr>\n",
              "  </thead>\n",
              "  <tbody>\n",
              "    <tr>\n",
              "      <th>Agence France Museums</th>\n",
              "      <td>48</td>\n",
              "      <td>40</td>\n",
              "      <td>48</td>\n",
              "      <td>48</td>\n",
              "      <td>48</td>\n",
              "    </tr>\n",
              "    <tr>\n",
              "      <th>BLR Museum</th>\n",
              "      <td>13</td>\n",
              "      <td>12</td>\n",
              "      <td>13</td>\n",
              "      <td>13</td>\n",
              "      <td>13</td>\n",
              "    </tr>\n",
              "    <tr>\n",
              "      <th>Bibliothèque Centrale du Museum National d'Histoire Naturelle</th>\n",
              "      <td>50</td>\n",
              "      <td>39</td>\n",
              "      <td>50</td>\n",
              "      <td>50</td>\n",
              "      <td>50</td>\n",
              "    </tr>\n",
              "    <tr>\n",
              "      <th>Bmw Museum</th>\n",
              "      <td>3</td>\n",
              "      <td>2</td>\n",
              "      <td>3</td>\n",
              "      <td>3</td>\n",
              "      <td>3</td>\n",
              "    </tr>\n",
              "    <tr>\n",
              "      <th>Bâtiment de la Baleine</th>\n",
              "      <td>47</td>\n",
              "      <td>39</td>\n",
              "      <td>47</td>\n",
              "      <td>47</td>\n",
              "      <td>47</td>\n",
              "    </tr>\n",
              "    <tr>\n",
              "      <th>CHANEL Home &amp; Museum</th>\n",
              "      <td>27</td>\n",
              "      <td>23</td>\n",
              "      <td>27</td>\n",
              "      <td>27</td>\n",
              "      <td>27</td>\n",
              "    </tr>\n",
              "    <tr>\n",
              "      <th>Centre Pompidou – Musée National d'Art Moderne</th>\n",
              "      <td>50</td>\n",
              "      <td>40</td>\n",
              "      <td>50</td>\n",
              "      <td>50</td>\n",
              "      <td>50</td>\n",
              "    </tr>\n",
              "    <tr>\n",
              "      <th>Deck of the Orsay Museum</th>\n",
              "      <td>30</td>\n",
              "      <td>26</td>\n",
              "      <td>30</td>\n",
              "      <td>30</td>\n",
              "      <td>30</td>\n",
              "    </tr>\n",
              "    <tr>\n",
              "      <th>Galerie des Enfants du Muséum d'Histoire Naturelle</th>\n",
              "      <td>50</td>\n",
              "      <td>40</td>\n",
              "      <td>50</td>\n",
              "      <td>50</td>\n",
              "      <td>50</td>\n",
              "    </tr>\n",
              "    <tr>\n",
              "      <th>Grand Amphitheatre</th>\n",
              "      <td>46</td>\n",
              "      <td>37</td>\n",
              "      <td>46</td>\n",
              "      <td>46</td>\n",
              "      <td>46</td>\n",
              "    </tr>\n",
              "    <tr>\n",
              "      <th>Grande Galerie de l'Évolution (Grande Galerie de l'évolution)</th>\n",
              "      <td>50</td>\n",
              "      <td>40</td>\n",
              "      <td>50</td>\n",
              "      <td>50</td>\n",
              "      <td>50</td>\n",
              "    </tr>\n",
              "    <tr>\n",
              "      <th>Jazz Museum</th>\n",
              "      <td>26</td>\n",
              "      <td>22</td>\n",
              "      <td>26</td>\n",
              "      <td>26</td>\n",
              "      <td>26</td>\n",
              "    </tr>\n",
              "    <tr>\n",
              "      <th>La Boutique des Catacombes</th>\n",
              "      <td>36</td>\n",
              "      <td>34</td>\n",
              "      <td>36</td>\n",
              "      <td>36</td>\n",
              "      <td>36</td>\n",
              "    </tr>\n",
              "    <tr>\n",
              "      <th>La Civette du Carrousel - Museum Pass</th>\n",
              "      <td>33</td>\n",
              "      <td>31</td>\n",
              "      <td>33</td>\n",
              "      <td>33</td>\n",
              "      <td>33</td>\n",
              "    </tr>\n",
              "    <tr>\n",
              "      <th>Lauvre Museum</th>\n",
              "      <td>39</td>\n",
              "      <td>37</td>\n",
              "      <td>39</td>\n",
              "      <td>39</td>\n",
              "      <td>39</td>\n",
              "    </tr>\n",
              "    <tr>\n",
              "      <th>Museum Studio</th>\n",
              "      <td>50</td>\n",
              "      <td>40</td>\n",
              "      <td>50</td>\n",
              "      <td>50</td>\n",
              "      <td>50</td>\n",
              "    </tr>\n",
              "    <tr>\n",
              "      <th>Museum national d'histoire naturelle</th>\n",
              "      <td>50</td>\n",
              "      <td>40</td>\n",
              "      <td>50</td>\n",
              "      <td>50</td>\n",
              "      <td>50</td>\n",
              "    </tr>\n",
              "    <tr>\n",
              "      <th>Musée Jacquemart-André</th>\n",
              "      <td>18</td>\n",
              "      <td>16</td>\n",
              "      <td>18</td>\n",
              "      <td>18</td>\n",
              "      <td>18</td>\n",
              "    </tr>\n",
              "    <tr>\n",
              "      <th>Musée Marmottan Monet</th>\n",
              "      <td>1</td>\n",
              "      <td>1</td>\n",
              "      <td>1</td>\n",
              "      <td>1</td>\n",
              "      <td>1</td>\n",
              "    </tr>\n",
              "    <tr>\n",
              "      <th>Musée National de la Marine</th>\n",
              "      <td>2</td>\n",
              "      <td>2</td>\n",
              "      <td>2</td>\n",
              "      <td>2</td>\n",
              "      <td>2</td>\n",
              "    </tr>\n",
              "    <tr>\n",
              "      <th>Musée Rodin</th>\n",
              "      <td>12</td>\n",
              "      <td>10</td>\n",
              "      <td>12</td>\n",
              "      <td>12</td>\n",
              "      <td>12</td>\n",
              "    </tr>\n",
              "    <tr>\n",
              "      <th>Musée d'Orsay</th>\n",
              "      <td>29</td>\n",
              "      <td>25</td>\n",
              "      <td>29</td>\n",
              "      <td>29</td>\n",
              "      <td>29</td>\n",
              "    </tr>\n",
              "    <tr>\n",
              "      <th>Musée des Arts Décoratifs</th>\n",
              "      <td>42</td>\n",
              "      <td>39</td>\n",
              "      <td>42</td>\n",
              "      <td>42</td>\n",
              "      <td>42</td>\n",
              "    </tr>\n",
              "    <tr>\n",
              "      <th>Musée du Louvre</th>\n",
              "      <td>40</td>\n",
              "      <td>36</td>\n",
              "      <td>40</td>\n",
              "      <td>40</td>\n",
              "      <td>40</td>\n",
              "    </tr>\n",
              "    <tr>\n",
              "      <th>Musée du Quai Branly – Jacques Chirac</th>\n",
              "      <td>3</td>\n",
              "      <td>3</td>\n",
              "      <td>3</td>\n",
              "      <td>3</td>\n",
              "      <td>3</td>\n",
              "    </tr>\n",
              "    <tr>\n",
              "      <th>Palais de Tokyo</th>\n",
              "      <td>2</td>\n",
              "      <td>2</td>\n",
              "      <td>2</td>\n",
              "      <td>2</td>\n",
              "      <td>2</td>\n",
              "    </tr>\n",
              "    <tr>\n",
              "      <th>Paris Pinball Museum</th>\n",
              "      <td>34</td>\n",
              "      <td>30</td>\n",
              "      <td>34</td>\n",
              "      <td>34</td>\n",
              "      <td>34</td>\n",
              "    </tr>\n",
              "    <tr>\n",
              "      <th>Phono Museum</th>\n",
              "      <td>20</td>\n",
              "      <td>18</td>\n",
              "      <td>20</td>\n",
              "      <td>20</td>\n",
              "      <td>20</td>\n",
              "    </tr>\n",
              "    <tr>\n",
              "      <th>Residence Museum View</th>\n",
              "      <td>37</td>\n",
              "      <td>33</td>\n",
              "      <td>37</td>\n",
              "      <td>37</td>\n",
              "      <td>37</td>\n",
              "    </tr>\n",
              "    <tr>\n",
              "      <th>Société des amis du museum</th>\n",
              "      <td>26</td>\n",
              "      <td>24</td>\n",
              "      <td>26</td>\n",
              "      <td>26</td>\n",
              "      <td>26</td>\n",
              "    </tr>\n",
              "    <tr>\n",
              "      <th>Studio near Chatelet/Louvre museum</th>\n",
              "      <td>28</td>\n",
              "      <td>26</td>\n",
              "      <td>28</td>\n",
              "      <td>28</td>\n",
              "      <td>28</td>\n",
              "    </tr>\n",
              "    <tr>\n",
              "      <th>The Grand Parfume Museum</th>\n",
              "      <td>10</td>\n",
              "      <td>8</td>\n",
              "      <td>10</td>\n",
              "      <td>10</td>\n",
              "      <td>10</td>\n",
              "    </tr>\n",
              "    <tr>\n",
              "      <th>The Museum of Everything</th>\n",
              "      <td>30</td>\n",
              "      <td>26</td>\n",
              "      <td>30</td>\n",
              "      <td>30</td>\n",
              "      <td>30</td>\n",
              "    </tr>\n",
              "    <tr>\n",
              "      <th>musee de louvre</th>\n",
              "      <td>28</td>\n",
              "      <td>27</td>\n",
              "      <td>28</td>\n",
              "      <td>28</td>\n",
              "      <td>28</td>\n",
              "    </tr>\n",
              "    <tr>\n",
              "      <th>paris pinball museum</th>\n",
              "      <td>37</td>\n",
              "      <td>32</td>\n",
              "      <td>37</td>\n",
              "      <td>37</td>\n",
              "      <td>37</td>\n",
              "    </tr>\n",
              "  </tbody>\n",
              "</table>\n",
              "</div>"
            ],
            "text/plain": [
              "                                                    name  ...  location.distance\n",
              "museum_name                                               ...                   \n",
              "Agence France Museums                                 48  ...                 48\n",
              "BLR Museum                                            13  ...                 13\n",
              "Bibliothèque Centrale du Museum National d'Hist...    50  ...                 50\n",
              "Bmw Museum                                             3  ...                  3\n",
              "Bâtiment de la Baleine                                47  ...                 47\n",
              "CHANEL Home & Museum                                  27  ...                 27\n",
              "Centre Pompidou – Musée National d'Art Moderne        50  ...                 50\n",
              "Deck of the Orsay Museum                              30  ...                 30\n",
              "Galerie des Enfants du Muséum d'Histoire Naturelle    50  ...                 50\n",
              "Grand Amphitheatre                                    46  ...                 46\n",
              "Grande Galerie de l'Évolution (Grande Galerie d...    50  ...                 50\n",
              "Jazz Museum                                           26  ...                 26\n",
              "La Boutique des Catacombes                            36  ...                 36\n",
              "La Civette du Carrousel - Museum Pass                 33  ...                 33\n",
              "Lauvre Museum                                         39  ...                 39\n",
              "Museum Studio                                         50  ...                 50\n",
              "Museum national d'histoire naturelle                  50  ...                 50\n",
              "Musée Jacquemart-André                                18  ...                 18\n",
              "Musée Marmottan Monet                                  1  ...                  1\n",
              "Musée National de la Marine                            2  ...                  2\n",
              "Musée Rodin                                           12  ...                 12\n",
              "Musée d'Orsay                                         29  ...                 29\n",
              "Musée des Arts Décoratifs                             42  ...                 42\n",
              "Musée du Louvre                                       40  ...                 40\n",
              "Musée du Quai Branly – Jacques Chirac                  3  ...                  3\n",
              "Palais de Tokyo                                        2  ...                  2\n",
              "Paris Pinball Museum                                  34  ...                 34\n",
              "Phono Museum                                          20  ...                 20\n",
              "Residence Museum View                                 37  ...                 37\n",
              "Société des amis du museum                            26  ...                 26\n",
              "Studio near Chatelet/Louvre museum                    28  ...                 28\n",
              "The Grand Parfume Museum                              10  ...                 10\n",
              "The Museum of Everything                              30  ...                 30\n",
              "musee de louvre                                       28  ...                 28\n",
              "paris pinball museum                                  37  ...                 37\n",
              "\n",
              "[35 rows x 5 columns]"
            ]
          },
          "metadata": {
            "tags": []
          },
          "execution_count": 17
        }
      ]
    },
    {
      "cell_type": "markdown",
      "metadata": {
        "id": "l3Rx-YH35F9a",
        "colab_type": "text"
      },
      "source": [
        "## Also, lets see what is average distance between each museum and hotels"
      ]
    },
    {
      "cell_type": "code",
      "metadata": {
        "id": "BoGDs9mtjQvM",
        "colab_type": "code",
        "colab": {
          "base_uri": "https://localhost:8080/",
          "height": 1000
        },
        "outputId": "4844bf4c-a469-429c-b228-83483ecdb873"
      },
      "source": [
        "hotel_distance=df34.groupby(['museum_name']).mean()\n",
        "hotel_distance"
      ],
      "execution_count": null,
      "outputs": [
        {
          "output_type": "execute_result",
          "data": {
            "text/html": [
              "<div>\n",
              "<style scoped>\n",
              "    .dataframe tbody tr th:only-of-type {\n",
              "        vertical-align: middle;\n",
              "    }\n",
              "\n",
              "    .dataframe tbody tr th {\n",
              "        vertical-align: top;\n",
              "    }\n",
              "\n",
              "    .dataframe thead th {\n",
              "        text-align: right;\n",
              "    }\n",
              "</style>\n",
              "<table border=\"1\" class=\"dataframe\">\n",
              "  <thead>\n",
              "    <tr style=\"text-align: right;\">\n",
              "      <th></th>\n",
              "      <th>location.lat</th>\n",
              "      <th>location.lng</th>\n",
              "      <th>location.distance</th>\n",
              "    </tr>\n",
              "    <tr>\n",
              "      <th>museum_name</th>\n",
              "      <th></th>\n",
              "      <th></th>\n",
              "      <th></th>\n",
              "    </tr>\n",
              "  </thead>\n",
              "  <tbody>\n",
              "    <tr>\n",
              "      <th>Agence France Museums</th>\n",
              "      <td>48.856473</td>\n",
              "      <td>2.350205</td>\n",
              "      <td>255.770833</td>\n",
              "    </tr>\n",
              "    <tr>\n",
              "      <th>BLR Museum</th>\n",
              "      <td>48.855472</td>\n",
              "      <td>2.318811</td>\n",
              "      <td>204.076923</td>\n",
              "    </tr>\n",
              "    <tr>\n",
              "      <th>Bibliothèque Centrale du Museum National d'Histoire Naturelle</th>\n",
              "      <td>48.856262</td>\n",
              "      <td>2.355067</td>\n",
              "      <td>207.000000</td>\n",
              "    </tr>\n",
              "    <tr>\n",
              "      <th>Bmw Museum</th>\n",
              "      <td>48.855044</td>\n",
              "      <td>2.785230</td>\n",
              "      <td>236.666667</td>\n",
              "    </tr>\n",
              "    <tr>\n",
              "      <th>Bâtiment de la Baleine</th>\n",
              "      <td>48.856353</td>\n",
              "      <td>2.357583</td>\n",
              "      <td>233.085106</td>\n",
              "    </tr>\n",
              "    <tr>\n",
              "      <th>CHANEL Home &amp; Museum</th>\n",
              "      <td>48.856364</td>\n",
              "      <td>2.326408</td>\n",
              "      <td>226.481481</td>\n",
              "    </tr>\n",
              "    <tr>\n",
              "      <th>Centre Pompidou – Musée National d'Art Moderne</th>\n",
              "      <td>48.856612</td>\n",
              "      <td>2.352193</td>\n",
              "      <td>218.800000</td>\n",
              "    </tr>\n",
              "    <tr>\n",
              "      <th>Deck of the Orsay Museum</th>\n",
              "      <td>48.856316</td>\n",
              "      <td>2.326868</td>\n",
              "      <td>239.266667</td>\n",
              "    </tr>\n",
              "    <tr>\n",
              "      <th>Galerie des Enfants du Muséum d'Histoire Naturelle</th>\n",
              "      <td>48.856216</td>\n",
              "      <td>2.355793</td>\n",
              "      <td>223.140000</td>\n",
              "    </tr>\n",
              "    <tr>\n",
              "      <th>Grand Amphitheatre</th>\n",
              "      <td>48.856353</td>\n",
              "      <td>2.356195</td>\n",
              "      <td>215.326087</td>\n",
              "    </tr>\n",
              "    <tr>\n",
              "      <th>Grande Galerie de l'Évolution (Grande Galerie de l'évolution)</th>\n",
              "      <td>48.856216</td>\n",
              "      <td>2.355793</td>\n",
              "      <td>223.700000</td>\n",
              "    </tr>\n",
              "    <tr>\n",
              "      <th>Jazz Museum</th>\n",
              "      <td>48.854750</td>\n",
              "      <td>2.340021</td>\n",
              "      <td>245.038462</td>\n",
              "    </tr>\n",
              "    <tr>\n",
              "      <th>La Boutique des Catacombes</th>\n",
              "      <td>48.854927</td>\n",
              "      <td>2.334143</td>\n",
              "      <td>203.666667</td>\n",
              "    </tr>\n",
              "    <tr>\n",
              "      <th>La Civette du Carrousel - Museum Pass</th>\n",
              "      <td>48.855107</td>\n",
              "      <td>2.334042</td>\n",
              "      <td>190.818182</td>\n",
              "    </tr>\n",
              "    <tr>\n",
              "      <th>Lauvre Museum</th>\n",
              "      <td>48.854936</td>\n",
              "      <td>2.334669</td>\n",
              "      <td>220.692308</td>\n",
              "    </tr>\n",
              "    <tr>\n",
              "      <th>Museum Studio</th>\n",
              "      <td>48.856442</td>\n",
              "      <td>2.355748</td>\n",
              "      <td>217.280000</td>\n",
              "    </tr>\n",
              "    <tr>\n",
              "      <th>Museum national d'histoire naturelle</th>\n",
              "      <td>48.856216</td>\n",
              "      <td>2.355793</td>\n",
              "      <td>223.260000</td>\n",
              "    </tr>\n",
              "    <tr>\n",
              "      <th>Musée Jacquemart-André</th>\n",
              "      <td>48.855701</td>\n",
              "      <td>2.308252</td>\n",
              "      <td>270.555556</td>\n",
              "    </tr>\n",
              "    <tr>\n",
              "      <th>Musée Marmottan Monet</th>\n",
              "      <td>48.855666</td>\n",
              "      <td>2.269903</td>\n",
              "      <td>177.000000</td>\n",
              "    </tr>\n",
              "    <tr>\n",
              "      <th>Musée National de la Marine</th>\n",
              "      <td>48.854776</td>\n",
              "      <td>2.290478</td>\n",
              "      <td>271.000000</td>\n",
              "    </tr>\n",
              "    <tr>\n",
              "      <th>Musée Rodin</th>\n",
              "      <td>48.855554</td>\n",
              "      <td>2.316458</td>\n",
              "      <td>228.833333</td>\n",
              "    </tr>\n",
              "    <tr>\n",
              "      <th>Musée d'Orsay</th>\n",
              "      <td>48.856355</td>\n",
              "      <td>2.326736</td>\n",
              "      <td>236.241379</td>\n",
              "    </tr>\n",
              "    <tr>\n",
              "      <th>Musée des Arts Décoratifs</th>\n",
              "      <td>48.855475</td>\n",
              "      <td>2.332865</td>\n",
              "      <td>205.357143</td>\n",
              "    </tr>\n",
              "    <tr>\n",
              "      <th>Musée du Louvre</th>\n",
              "      <td>48.854716</td>\n",
              "      <td>2.335861</td>\n",
              "      <td>240.150000</td>\n",
              "    </tr>\n",
              "    <tr>\n",
              "      <th>Musée du Quai Branly – Jacques Chirac</th>\n",
              "      <td>48.856805</td>\n",
              "      <td>2.296451</td>\n",
              "      <td>338.666667</td>\n",
              "    </tr>\n",
              "    <tr>\n",
              "      <th>Palais de Tokyo</th>\n",
              "      <td>48.856964</td>\n",
              "      <td>2.293646</td>\n",
              "      <td>294.000000</td>\n",
              "    </tr>\n",
              "    <tr>\n",
              "      <th>Paris Pinball Museum</th>\n",
              "      <td>48.855724</td>\n",
              "      <td>2.347611</td>\n",
              "      <td>284.794118</td>\n",
              "    </tr>\n",
              "    <tr>\n",
              "      <th>Phono Museum</th>\n",
              "      <td>48.854905</td>\n",
              "      <td>2.341244</td>\n",
              "      <td>237.500000</td>\n",
              "    </tr>\n",
              "    <tr>\n",
              "      <th>Residence Museum View</th>\n",
              "      <td>48.855523</td>\n",
              "      <td>2.362947</td>\n",
              "      <td>206.810811</td>\n",
              "    </tr>\n",
              "    <tr>\n",
              "      <th>Société des amis du museum</th>\n",
              "      <td>48.855464</td>\n",
              "      <td>2.343122</td>\n",
              "      <td>286.653846</td>\n",
              "    </tr>\n",
              "    <tr>\n",
              "      <th>Studio near Chatelet/Louvre museum</th>\n",
              "      <td>48.855426</td>\n",
              "      <td>2.345103</td>\n",
              "      <td>296.892857</td>\n",
              "    </tr>\n",
              "    <tr>\n",
              "      <th>The Grand Parfume Museum</th>\n",
              "      <td>48.856026</td>\n",
              "      <td>2.314980</td>\n",
              "      <td>230.700000</td>\n",
              "    </tr>\n",
              "    <tr>\n",
              "      <th>The Museum of Everything</th>\n",
              "      <td>48.856162</td>\n",
              "      <td>2.325591</td>\n",
              "      <td>239.533333</td>\n",
              "    </tr>\n",
              "    <tr>\n",
              "      <th>musee de louvre</th>\n",
              "      <td>48.855233</td>\n",
              "      <td>2.346681</td>\n",
              "      <td>286.535714</td>\n",
              "    </tr>\n",
              "    <tr>\n",
              "      <th>paris pinball museum</th>\n",
              "      <td>48.855674</td>\n",
              "      <td>2.362849</td>\n",
              "      <td>203.540541</td>\n",
              "    </tr>\n",
              "  </tbody>\n",
              "</table>\n",
              "</div>"
            ],
            "text/plain": [
              "                                                    location.lat  ...  location.distance\n",
              "museum_name                                                       ...                   \n",
              "Agence France Museums                                  48.856473  ...         255.770833\n",
              "BLR Museum                                             48.855472  ...         204.076923\n",
              "Bibliothèque Centrale du Museum National d'Hist...     48.856262  ...         207.000000\n",
              "Bmw Museum                                             48.855044  ...         236.666667\n",
              "Bâtiment de la Baleine                                 48.856353  ...         233.085106\n",
              "CHANEL Home & Museum                                   48.856364  ...         226.481481\n",
              "Centre Pompidou – Musée National d'Art Moderne         48.856612  ...         218.800000\n",
              "Deck of the Orsay Museum                               48.856316  ...         239.266667\n",
              "Galerie des Enfants du Muséum d'Histoire Naturelle     48.856216  ...         223.140000\n",
              "Grand Amphitheatre                                     48.856353  ...         215.326087\n",
              "Grande Galerie de l'Évolution (Grande Galerie d...     48.856216  ...         223.700000\n",
              "Jazz Museum                                            48.854750  ...         245.038462\n",
              "La Boutique des Catacombes                             48.854927  ...         203.666667\n",
              "La Civette du Carrousel - Museum Pass                  48.855107  ...         190.818182\n",
              "Lauvre Museum                                          48.854936  ...         220.692308\n",
              "Museum Studio                                          48.856442  ...         217.280000\n",
              "Museum national d'histoire naturelle                   48.856216  ...         223.260000\n",
              "Musée Jacquemart-André                                 48.855701  ...         270.555556\n",
              "Musée Marmottan Monet                                  48.855666  ...         177.000000\n",
              "Musée National de la Marine                            48.854776  ...         271.000000\n",
              "Musée Rodin                                            48.855554  ...         228.833333\n",
              "Musée d'Orsay                                          48.856355  ...         236.241379\n",
              "Musée des Arts Décoratifs                              48.855475  ...         205.357143\n",
              "Musée du Louvre                                        48.854716  ...         240.150000\n",
              "Musée du Quai Branly – Jacques Chirac                  48.856805  ...         338.666667\n",
              "Palais de Tokyo                                        48.856964  ...         294.000000\n",
              "Paris Pinball Museum                                   48.855724  ...         284.794118\n",
              "Phono Museum                                           48.854905  ...         237.500000\n",
              "Residence Museum View                                  48.855523  ...         206.810811\n",
              "Société des amis du museum                             48.855464  ...         286.653846\n",
              "Studio near Chatelet/Louvre museum                     48.855426  ...         296.892857\n",
              "The Grand Parfume Museum                               48.856026  ...         230.700000\n",
              "The Museum of Everything                               48.856162  ...         239.533333\n",
              "musee de louvre                                        48.855233  ...         286.535714\n",
              "paris pinball museum                                   48.855674  ...         203.540541\n",
              "\n",
              "[35 rows x 3 columns]"
            ]
          },
          "metadata": {
            "tags": []
          },
          "execution_count": 18
        }
      ]
    },
    {
      "cell_type": "markdown",
      "metadata": {
        "id": "WstMDLeM7k_y",
        "colab_type": "text"
      },
      "source": [
        "###Let's now analyse the nubmer of hotels and distance seperately. "
      ]
    },
    {
      "cell_type": "code",
      "metadata": {
        "id": "sbBtCU9FgMFT",
        "colab_type": "code",
        "colab": {
          "base_uri": "https://localhost:8080/",
          "height": 638
        },
        "outputId": "ee9fdb0d-05bd-42b1-e9cc-53627b3bfe28"
      },
      "source": [
        "hotel_count['name']"
      ],
      "execution_count": null,
      "outputs": [
        {
          "output_type": "execute_result",
          "data": {
            "text/plain": [
              "museum_name\n",
              "Agence France Museums                                            48\n",
              "BLR Museum                                                       13\n",
              "Bibliothèque Centrale du Museum National d'Histoire Naturelle    50\n",
              "Bmw Museum                                                        3\n",
              "Bâtiment de la Baleine                                           47\n",
              "CHANEL Home & Museum                                             27\n",
              "Centre Pompidou – Musée National d'Art Moderne                   50\n",
              "Deck of the Orsay Museum                                         30\n",
              "Galerie des Enfants du Muséum d'Histoire Naturelle               50\n",
              "Grand Amphitheatre                                               46\n",
              "Grande Galerie de l'Évolution (Grande Galerie de l'évolution)    50\n",
              "Jazz Museum                                                      26\n",
              "La Boutique des Catacombes                                       36\n",
              "La Civette du Carrousel - Museum Pass                            33\n",
              "Lauvre Museum                                                    39\n",
              "Museum Studio                                                    50\n",
              "Museum national d'histoire naturelle                             50\n",
              "Musée Jacquemart-André                                           18\n",
              "Musée Marmottan Monet                                             1\n",
              "Musée National de la Marine                                       2\n",
              "Musée Rodin                                                      12\n",
              "Musée d'Orsay                                                    29\n",
              "Musée des Arts Décoratifs                                        42\n",
              "Musée du Louvre                                                  40\n",
              "Musée du Quai Branly – Jacques Chirac                             3\n",
              "Palais de Tokyo                                                   2\n",
              "Paris Pinball Museum                                             34\n",
              "Phono Museum                                                     20\n",
              "Residence Museum View                                            37\n",
              "Société des amis du museum                                       26\n",
              "Studio near Chatelet/Louvre museum                               28\n",
              "The Grand Parfume Museum                                         10\n",
              "The Museum of Everything                                         30\n",
              "musee de louvre                                                  28\n",
              "paris pinball museum                                             37\n",
              "Name: name, dtype: int64"
            ]
          },
          "metadata": {
            "tags": []
          },
          "execution_count": 19
        }
      ]
    },
    {
      "cell_type": "code",
      "metadata": {
        "id": "xJeuM9Iij7-l",
        "colab_type": "code",
        "colab": {
          "base_uri": "https://localhost:8080/",
          "height": 638
        },
        "outputId": "53001ccc-694b-4558-ba9a-e93d62b81fe2"
      },
      "source": [
        "hotel_distance['location.distance']"
      ],
      "execution_count": null,
      "outputs": [
        {
          "output_type": "execute_result",
          "data": {
            "text/plain": [
              "museum_name\n",
              "Agence France Museums                                            255.770833\n",
              "BLR Museum                                                       204.076923\n",
              "Bibliothèque Centrale du Museum National d'Histoire Naturelle    207.000000\n",
              "Bmw Museum                                                       236.666667\n",
              "Bâtiment de la Baleine                                           233.085106\n",
              "CHANEL Home & Museum                                             226.481481\n",
              "Centre Pompidou – Musée National d'Art Moderne                   218.800000\n",
              "Deck of the Orsay Museum                                         239.266667\n",
              "Galerie des Enfants du Muséum d'Histoire Naturelle               223.140000\n",
              "Grand Amphitheatre                                               215.326087\n",
              "Grande Galerie de l'Évolution (Grande Galerie de l'évolution)    223.700000\n",
              "Jazz Museum                                                      245.038462\n",
              "La Boutique des Catacombes                                       203.666667\n",
              "La Civette du Carrousel - Museum Pass                            190.818182\n",
              "Lauvre Museum                                                    220.692308\n",
              "Museum Studio                                                    217.280000\n",
              "Museum national d'histoire naturelle                             223.260000\n",
              "Musée Jacquemart-André                                           270.555556\n",
              "Musée Marmottan Monet                                            177.000000\n",
              "Musée National de la Marine                                      271.000000\n",
              "Musée Rodin                                                      228.833333\n",
              "Musée d'Orsay                                                    236.241379\n",
              "Musée des Arts Décoratifs                                        205.357143\n",
              "Musée du Louvre                                                  240.150000\n",
              "Musée du Quai Branly – Jacques Chirac                            338.666667\n",
              "Palais de Tokyo                                                  294.000000\n",
              "Paris Pinball Museum                                             284.794118\n",
              "Phono Museum                                                     237.500000\n",
              "Residence Museum View                                            206.810811\n",
              "Société des amis du museum                                       286.653846\n",
              "Studio near Chatelet/Louvre museum                               296.892857\n",
              "The Grand Parfume Museum                                         230.700000\n",
              "The Museum of Everything                                         239.533333\n",
              "musee de louvre                                                  286.535714\n",
              "paris pinball museum                                             203.540541\n",
              "Name: location.distance, dtype: float64"
            ]
          },
          "metadata": {
            "tags": []
          },
          "execution_count": 20
        }
      ]
    },
    {
      "cell_type": "code",
      "metadata": {
        "id": "5cIF48h2IiUA",
        "colab_type": "code",
        "colab": {}
      },
      "source": [
        ""
      ],
      "execution_count": null,
      "outputs": []
    },
    {
      "cell_type": "markdown",
      "metadata": {
        "id": "go6ld8SD5m7p",
        "colab_type": "text"
      },
      "source": [
        "# Plot the number of hotels near each museums"
      ]
    },
    {
      "cell_type": "code",
      "metadata": {
        "id": "kpEAA6qHgMTZ",
        "colab_type": "code",
        "colab": {
          "base_uri": "https://localhost:8080/",
          "height": 300
        },
        "outputId": "5062c404-0119-4bf4-ceac-7180e84f70bb"
      },
      "source": [
        "import matplotlib.pyplot as plt\n",
        "\n",
        "x=hotel_count['name'].sort_values()\n",
        "y=hotel_distance['location.distance']\n",
        "plt.title(' Paris museums and hotels')\n",
        "plt.ylabel('Number of hotels')\n",
        "plt.plot(x)\n"
      ],
      "execution_count": null,
      "outputs": [
        {
          "output_type": "execute_result",
          "data": {
            "text/plain": [
              "[<matplotlib.lines.Line2D at 0x7f6d193c6e80>]"
            ]
          },
          "metadata": {
            "tags": []
          },
          "execution_count": 411
        },
        {
          "output_type": "display_data",
          "data": {
            "image/png": "[encoded data removed]",
            "text/plain": [
              "<Figure size 432x288 with 1 Axes>"
            ]
          },
          "metadata": {
            "tags": [],
            "needs_background": "light"
          }
        }
      ]
    },
    {
      "cell_type": "markdown",
      "metadata": {
        "id": "G7bHXAOO53ch",
        "colab_type": "text"
      },
      "source": [
        "## Box plot of the number of hotels near each museum"
      ]
    },
    {
      "cell_type": "code",
      "metadata": {
        "id": "Y_9seSEnBWgA",
        "colab_type": "code",
        "colab": {
          "base_uri": "https://localhost:8080/",
          "height": 353
        },
        "outputId": "a7b4f679-70f1-4194-d675-6f892d6c5153"
      },
      "source": [
        "data['name'].plot(kind='box', figsize=(8,5))\n",
        "plt.title('The number of hotels near major Paris museums')\n",
        "plt.ylabel('Number of hotels')\n",
        "plt.show"
      ],
      "execution_count": null,
      "outputs": [
        {
          "output_type": "execute_result",
          "data": {
            "text/plain": [
              "<function matplotlib.pyplot.show>"
            ]
          },
          "metadata": {
            "tags": []
          },
          "execution_count": 390
        },
        {
          "output_type": "display_data",
          "data": {
            "image/png": "[encoded data removed]",
            "text/plain": [
              "<Figure size 576x360 with 1 Axes>"
            ]
          },
          "metadata": {
            "tags": [],
            "needs_background": "light"
          }
        }
      ]
    },
    {
      "cell_type": "code",
      "metadata": {
        "id": "tfB8UBUXIifK",
        "colab_type": "code",
        "colab": {}
      },
      "source": [
        ""
      ],
      "execution_count": null,
      "outputs": []
    },
    {
      "cell_type": "markdown",
      "metadata": {
        "id": "LgEpIVVK7k_4",
        "colab_type": "text"
      },
      "source": [
        "## Methodology <a name=\"methodology\"></a>"
      ]
    },
    {
      "cell_type": "markdown",
      "metadata": {
        "id": "vAMkze3L7k_3",
        "colab_type": "text"
      },
      "source": [
        "So now we have all the hotels in area within 300 meters from 38 major museums, and we also know the distribution of the number with linear plot and boxplot \n",
        "\n",
        "Lets analyse how many clusters of those number we should segment them into.  We would like to know: \n",
        "##which groupd of museums are over-served by hotels (i.e. >40 hotels surrounding them\n",
        "##which groupd of museums are moderately-served by hotels (i.e. between 10 and 40 hotels surrounding them\n",
        "##which groupd of museums are under-served by hotels (i.e. less than 10 hotels surrounding them"
      ]
    },
    {
      "cell_type": "code",
      "metadata": {
        "id": "8UXBWI2qE2l5",
        "colab_type": "code",
        "colab": {
          "base_uri": "https://localhost:8080/",
          "height": 295
        },
        "outputId": "5f365183-a4f8-4c3f-e5c1-8417a0ec8222"
      },
      "source": [
        "from sklearn.cluster import KMeans\n",
        "wcss = []\n",
        "for i in range(1, 11):\n",
        "    kmeans = KMeans(n_clusters = i, init = 'k-means++', random_state = 42)\n",
        "    kmeans.fit(data)\n",
        "    wcss.append(kmeans.inertia_)\n",
        "plt.plot(range(1, 11), wcss)\n",
        "plt.title('The Elbow Method')\n",
        "plt.xlabel('Number of clusters')\n",
        "plt.ylabel('WCSS')\n",
        "plt.show()"
      ],
      "execution_count": null,
      "outputs": [
        {
          "output_type": "display_data",
          "data": {
            "image/png": "[encoded data removed]",
            "text/plain": [
              "<Figure size 432x288 with 1 Axes>"
            ]
          },
          "metadata": {
            "tags": [],
            "needs_background": "light"
          }
        }
      ]
    },
    {
      "cell_type": "markdown",
      "metadata": {
        "id": "_JyUaHP47y91",
        "colab_type": "text"
      },
      "source": [
        "# Use elbow method of Kmeans from SKlearn, the graph clearly show that 3 is the segment number of those hotels categories.  This results is consistent with our qualitatiive hypothesis that museums can be categorized into 3 segment:  over-servied, moderate-served, and under-served.\n",
        "## Our business interest is find the museum and its location that are less crowded with hotels.  we want to build a new hotel near the museum"
      ]
    },
    {
      "cell_type": "code",
      "metadata": {
        "id": "y39Aam-e_ovt",
        "colab_type": "code",
        "colab": {
          "base_uri": "https://localhost:8080/",
          "height": 1000
        },
        "outputId": "67e50d78-47db-4671-b6a3-8d46113e8a2c"
      },
      "source": [
        "data=pd.concat([hotel_count['name'],hotel_distance['location.distance']], axis=1)\n",
        "column_index='museum_name'\n",
        "data"
      ],
      "execution_count": null,
      "outputs": [
        {
          "output_type": "execute_result",
          "data": {
            "text/html": [
              "<div>\n",
              "<style scoped>\n",
              "    .dataframe tbody tr th:only-of-type {\n",
              "        vertical-align: middle;\n",
              "    }\n",
              "\n",
              "    .dataframe tbody tr th {\n",
              "        vertical-align: top;\n",
              "    }\n",
              "\n",
              "    .dataframe thead th {\n",
              "        text-align: right;\n",
              "    }\n",
              "</style>\n",
              "<table border=\"1\" class=\"dataframe\">\n",
              "  <thead>\n",
              "    <tr style=\"text-align: right;\">\n",
              "      <th></th>\n",
              "      <th>name</th>\n",
              "      <th>location.distance</th>\n",
              "    </tr>\n",
              "    <tr>\n",
              "      <th>museum_name</th>\n",
              "      <th></th>\n",
              "      <th></th>\n",
              "    </tr>\n",
              "  </thead>\n",
              "  <tbody>\n",
              "    <tr>\n",
              "      <th>Agence France Museums</th>\n",
              "      <td>48</td>\n",
              "      <td>255.770833</td>\n",
              "    </tr>\n",
              "    <tr>\n",
              "      <th>BLR Museum</th>\n",
              "      <td>13</td>\n",
              "      <td>204.076923</td>\n",
              "    </tr>\n",
              "    <tr>\n",
              "      <th>Bibliothèque Centrale du Museum National d'Histoire Naturelle</th>\n",
              "      <td>50</td>\n",
              "      <td>207.000000</td>\n",
              "    </tr>\n",
              "    <tr>\n",
              "      <th>Bmw Museum</th>\n",
              "      <td>3</td>\n",
              "      <td>236.666667</td>\n",
              "    </tr>\n",
              "    <tr>\n",
              "      <th>Bâtiment de la Baleine</th>\n",
              "      <td>47</td>\n",
              "      <td>233.085106</td>\n",
              "    </tr>\n",
              "    <tr>\n",
              "      <th>CHANEL Home &amp; Museum</th>\n",
              "      <td>27</td>\n",
              "      <td>226.481481</td>\n",
              "    </tr>\n",
              "    <tr>\n",
              "      <th>Centre Pompidou – Musée National d'Art Moderne</th>\n",
              "      <td>50</td>\n",
              "      <td>218.800000</td>\n",
              "    </tr>\n",
              "    <tr>\n",
              "      <th>Deck of the Orsay Museum</th>\n",
              "      <td>30</td>\n",
              "      <td>239.266667</td>\n",
              "    </tr>\n",
              "    <tr>\n",
              "      <th>Galerie des Enfants du Muséum d'Histoire Naturelle</th>\n",
              "      <td>50</td>\n",
              "      <td>223.140000</td>\n",
              "    </tr>\n",
              "    <tr>\n",
              "      <th>Grand Amphitheatre</th>\n",
              "      <td>46</td>\n",
              "      <td>215.326087</td>\n",
              "    </tr>\n",
              "    <tr>\n",
              "      <th>Grande Galerie de l'Évolution (Grande Galerie de l'évolution)</th>\n",
              "      <td>50</td>\n",
              "      <td>223.700000</td>\n",
              "    </tr>\n",
              "    <tr>\n",
              "      <th>Jazz Museum</th>\n",
              "      <td>26</td>\n",
              "      <td>245.038462</td>\n",
              "    </tr>\n",
              "    <tr>\n",
              "      <th>La Boutique des Catacombes</th>\n",
              "      <td>36</td>\n",
              "      <td>203.666667</td>\n",
              "    </tr>\n",
              "    <tr>\n",
              "      <th>La Civette du Carrousel - Museum Pass</th>\n",
              "      <td>33</td>\n",
              "      <td>190.818182</td>\n",
              "    </tr>\n",
              "    <tr>\n",
              "      <th>Lauvre Museum</th>\n",
              "      <td>39</td>\n",
              "      <td>220.692308</td>\n",
              "    </tr>\n",
              "    <tr>\n",
              "      <th>Museum Studio</th>\n",
              "      <td>50</td>\n",
              "      <td>217.280000</td>\n",
              "    </tr>\n",
              "    <tr>\n",
              "      <th>Museum national d'histoire naturelle</th>\n",
              "      <td>50</td>\n",
              "      <td>223.260000</td>\n",
              "    </tr>\n",
              "    <tr>\n",
              "      <th>Musée Jacquemart-André</th>\n",
              "      <td>18</td>\n",
              "      <td>270.555556</td>\n",
              "    </tr>\n",
              "    <tr>\n",
              "      <th>Musée Marmottan Monet</th>\n",
              "      <td>1</td>\n",
              "      <td>177.000000</td>\n",
              "    </tr>\n",
              "    <tr>\n",
              "      <th>Musée National de la Marine</th>\n",
              "      <td>2</td>\n",
              "      <td>271.000000</td>\n",
              "    </tr>\n",
              "    <tr>\n",
              "      <th>Musée Rodin</th>\n",
              "      <td>12</td>\n",
              "      <td>228.833333</td>\n",
              "    </tr>\n",
              "    <tr>\n",
              "      <th>Musée d'Orsay</th>\n",
              "      <td>29</td>\n",
              "      <td>236.241379</td>\n",
              "    </tr>\n",
              "    <tr>\n",
              "      <th>Musée des Arts Décoratifs</th>\n",
              "      <td>42</td>\n",
              "      <td>205.357143</td>\n",
              "    </tr>\n",
              "    <tr>\n",
              "      <th>Musée du Louvre</th>\n",
              "      <td>40</td>\n",
              "      <td>240.150000</td>\n",
              "    </tr>\n",
              "    <tr>\n",
              "      <th>Musée du Quai Branly – Jacques Chirac</th>\n",
              "      <td>3</td>\n",
              "      <td>338.666667</td>\n",
              "    </tr>\n",
              "    <tr>\n",
              "      <th>Palais de Tokyo</th>\n",
              "      <td>2</td>\n",
              "      <td>294.000000</td>\n",
              "    </tr>\n",
              "    <tr>\n",
              "      <th>Paris Pinball Museum</th>\n",
              "      <td>34</td>\n",
              "      <td>284.794118</td>\n",
              "    </tr>\n",
              "    <tr>\n",
              "      <th>Phono Museum</th>\n",
              "      <td>20</td>\n",
              "      <td>237.500000</td>\n",
              "    </tr>\n",
              "    <tr>\n",
              "      <th>Residence Museum View</th>\n",
              "      <td>37</td>\n",
              "      <td>206.810811</td>\n",
              "    </tr>\n",
              "    <tr>\n",
              "      <th>Société des amis du museum</th>\n",
              "      <td>26</td>\n",
              "      <td>286.653846</td>\n",
              "    </tr>\n",
              "    <tr>\n",
              "      <th>Studio near Chatelet/Louvre museum</th>\n",
              "      <td>28</td>\n",
              "      <td>296.892857</td>\n",
              "    </tr>\n",
              "    <tr>\n",
              "      <th>The Grand Parfume Museum</th>\n",
              "      <td>10</td>\n",
              "      <td>230.700000</td>\n",
              "    </tr>\n",
              "    <tr>\n",
              "      <th>The Museum of Everything</th>\n",
              "      <td>30</td>\n",
              "      <td>239.533333</td>\n",
              "    </tr>\n",
              "    <tr>\n",
              "      <th>musee de louvre</th>\n",
              "      <td>28</td>\n",
              "      <td>286.535714</td>\n",
              "    </tr>\n",
              "    <tr>\n",
              "      <th>paris pinball museum</th>\n",
              "      <td>37</td>\n",
              "      <td>203.540541</td>\n",
              "    </tr>\n",
              "  </tbody>\n",
              "</table>\n",
              "</div>"
            ],
            "text/plain": [
              "                                                    name  location.distance\n",
              "museum_name                                                                \n",
              "Agence France Museums                                 48         255.770833\n",
              "BLR Museum                                            13         204.076923\n",
              "Bibliothèque Centrale du Museum National d'Hist...    50         207.000000\n",
              "Bmw Museum                                             3         236.666667\n",
              "Bâtiment de la Baleine                                47         233.085106\n",
              "CHANEL Home & Museum                                  27         226.481481\n",
              "Centre Pompidou – Musée National d'Art Moderne        50         218.800000\n",
              "Deck of the Orsay Museum                              30         239.266667\n",
              "Galerie des Enfants du Muséum d'Histoire Naturelle    50         223.140000\n",
              "Grand Amphitheatre                                    46         215.326087\n",
              "Grande Galerie de l'Évolution (Grande Galerie d...    50         223.700000\n",
              "Jazz Museum                                           26         245.038462\n",
              "La Boutique des Catacombes                            36         203.666667\n",
              "La Civette du Carrousel - Museum Pass                 33         190.818182\n",
              "Lauvre Museum                                         39         220.692308\n",
              "Museum Studio                                         50         217.280000\n",
              "Museum national d'histoire naturelle                  50         223.260000\n",
              "Musée Jacquemart-André                                18         270.555556\n",
              "Musée Marmottan Monet                                  1         177.000000\n",
              "Musée National de la Marine                            2         271.000000\n",
              "Musée Rodin                                           12         228.833333\n",
              "Musée d'Orsay                                         29         236.241379\n",
              "Musée des Arts Décoratifs                             42         205.357143\n",
              "Musée du Louvre                                       40         240.150000\n",
              "Musée du Quai Branly – Jacques Chirac                  3         338.666667\n",
              "Palais de Tokyo                                        2         294.000000\n",
              "Paris Pinball Museum                                  34         284.794118\n",
              "Phono Museum                                          20         237.500000\n",
              "Residence Museum View                                 37         206.810811\n",
              "Société des amis du museum                            26         286.653846\n",
              "Studio near Chatelet/Louvre museum                    28         296.892857\n",
              "The Grand Parfume Museum                              10         230.700000\n",
              "The Museum of Everything                              30         239.533333\n",
              "musee de louvre                                       28         286.535714\n",
              "paris pinball museum                                  37         203.540541"
            ]
          },
          "metadata": {
            "tags": []
          },
          "execution_count": 21
        }
      ]
    },
    {
      "cell_type": "code",
      "metadata": {
        "id": "Khy0Ybc3RoXe",
        "colab_type": "code",
        "colab": {}
      },
      "source": [
        "data['category'] =data['name'].values\n"
      ],
      "execution_count": null,
      "outputs": []
    },
    {
      "cell_type": "code",
      "metadata": {
        "id": "tcr18vBsQL6d",
        "colab_type": "code",
        "colab": {
          "base_uri": "https://localhost:8080/",
          "height": 1000
        },
        "outputId": "6d73d101-d0b2-4b4f-c5df-abe2f1f9c7cb"
      },
      "source": [
        "\n",
        "data['category'][data['name']>10]=0\n",
        "\n",
        "data['category'][data['name']<10]=1\n",
        "\n",
        "data"
      ],
      "execution_count": null,
      "outputs": [
        {
          "output_type": "stream",
          "text": [
            "/usr/local/lib/python3.6/dist-packages/ipykernel_launcher.py:3: SettingWithCopyWarning: \n",
            "A value is trying to be set on a copy of a slice from a DataFrame\n",
            "\n",
            "See the caveats in the documentation: https://pandas.pydata.org/pandas-docs/stable/user_guide/indexing.html#returning-a-view-versus-a-copy\n",
            "  This is separate from the ipykernel package so we can avoid doing imports until\n",
            "/usr/local/lib/python3.6/dist-packages/ipykernel_launcher.py:5: SettingWithCopyWarning: \n",
            "A value is trying to be set on a copy of a slice from a DataFrame\n",
            "\n",
            "See the caveats in the documentation: https://pandas.pydata.org/pandas-docs/stable/user_guide/indexing.html#returning-a-view-versus-a-copy\n",
            "  \"\"\"\n"
          ],
          "name": "stderr"
        },
        {
          "output_type": "execute_result",
          "data": {
            "text/html": [
              "<div>\n",
              "<style scoped>\n",
              "    .dataframe tbody tr th:only-of-type {\n",
              "        vertical-align: middle;\n",
              "    }\n",
              "\n",
              "    .dataframe tbody tr th {\n",
              "        vertical-align: top;\n",
              "    }\n",
              "\n",
              "    .dataframe thead th {\n",
              "        text-align: right;\n",
              "    }\n",
              "</style>\n",
              "<table border=\"1\" class=\"dataframe\">\n",
              "  <thead>\n",
              "    <tr style=\"text-align: right;\">\n",
              "      <th></th>\n",
              "      <th>name</th>\n",
              "      <th>location.distance</th>\n",
              "      <th>category</th>\n",
              "    </tr>\n",
              "    <tr>\n",
              "      <th>museum_name</th>\n",
              "      <th></th>\n",
              "      <th></th>\n",
              "      <th></th>\n",
              "    </tr>\n",
              "  </thead>\n",
              "  <tbody>\n",
              "    <tr>\n",
              "      <th>Agence France Museums</th>\n",
              "      <td>48</td>\n",
              "      <td>255.770833</td>\n",
              "      <td>0</td>\n",
              "    </tr>\n",
              "    <tr>\n",
              "      <th>BLR Museum</th>\n",
              "      <td>13</td>\n",
              "      <td>204.076923</td>\n",
              "      <td>0</td>\n",
              "    </tr>\n",
              "    <tr>\n",
              "      <th>Bibliothèque Centrale du Museum National d'Histoire Naturelle</th>\n",
              "      <td>50</td>\n",
              "      <td>207.000000</td>\n",
              "      <td>0</td>\n",
              "    </tr>\n",
              "    <tr>\n",
              "      <th>Bmw Museum</th>\n",
              "      <td>3</td>\n",
              "      <td>236.666667</td>\n",
              "      <td>1</td>\n",
              "    </tr>\n",
              "    <tr>\n",
              "      <th>Bâtiment de la Baleine</th>\n",
              "      <td>47</td>\n",
              "      <td>233.085106</td>\n",
              "      <td>0</td>\n",
              "    </tr>\n",
              "    <tr>\n",
              "      <th>CHANEL Home &amp; Museum</th>\n",
              "      <td>27</td>\n",
              "      <td>226.481481</td>\n",
              "      <td>0</td>\n",
              "    </tr>\n",
              "    <tr>\n",
              "      <th>Centre Pompidou – Musée National d'Art Moderne</th>\n",
              "      <td>50</td>\n",
              "      <td>218.800000</td>\n",
              "      <td>0</td>\n",
              "    </tr>\n",
              "    <tr>\n",
              "      <th>Deck of the Orsay Museum</th>\n",
              "      <td>30</td>\n",
              "      <td>239.266667</td>\n",
              "      <td>0</td>\n",
              "    </tr>\n",
              "    <tr>\n",
              "      <th>Galerie des Enfants du Muséum d'Histoire Naturelle</th>\n",
              "      <td>50</td>\n",
              "      <td>223.140000</td>\n",
              "      <td>0</td>\n",
              "    </tr>\n",
              "    <tr>\n",
              "      <th>Grand Amphitheatre</th>\n",
              "      <td>46</td>\n",
              "      <td>215.326087</td>\n",
              "      <td>0</td>\n",
              "    </tr>\n",
              "    <tr>\n",
              "      <th>Grande Galerie de l'Évolution (Grande Galerie de l'évolution)</th>\n",
              "      <td>50</td>\n",
              "      <td>223.700000</td>\n",
              "      <td>0</td>\n",
              "    </tr>\n",
              "    <tr>\n",
              "      <th>Jazz Museum</th>\n",
              "      <td>26</td>\n",
              "      <td>245.038462</td>\n",
              "      <td>0</td>\n",
              "    </tr>\n",
              "    <tr>\n",
              "      <th>La Boutique des Catacombes</th>\n",
              "      <td>36</td>\n",
              "      <td>203.666667</td>\n",
              "      <td>0</td>\n",
              "    </tr>\n",
              "    <tr>\n",
              "      <th>La Civette du Carrousel - Museum Pass</th>\n",
              "      <td>33</td>\n",
              "      <td>190.818182</td>\n",
              "      <td>0</td>\n",
              "    </tr>\n",
              "    <tr>\n",
              "      <th>Lauvre Museum</th>\n",
              "      <td>39</td>\n",
              "      <td>220.692308</td>\n",
              "      <td>0</td>\n",
              "    </tr>\n",
              "    <tr>\n",
              "      <th>Museum Studio</th>\n",
              "      <td>50</td>\n",
              "      <td>217.280000</td>\n",
              "      <td>0</td>\n",
              "    </tr>\n",
              "    <tr>\n",
              "      <th>Museum national d'histoire naturelle</th>\n",
              "      <td>50</td>\n",
              "      <td>223.260000</td>\n",
              "      <td>0</td>\n",
              "    </tr>\n",
              "    <tr>\n",
              "      <th>Musée Jacquemart-André</th>\n",
              "      <td>18</td>\n",
              "      <td>270.555556</td>\n",
              "      <td>0</td>\n",
              "    </tr>\n",
              "    <tr>\n",
              "      <th>Musée Marmottan Monet</th>\n",
              "      <td>1</td>\n",
              "      <td>177.000000</td>\n",
              "      <td>1</td>\n",
              "    </tr>\n",
              "    <tr>\n",
              "      <th>Musée National de la Marine</th>\n",
              "      <td>2</td>\n",
              "      <td>271.000000</td>\n",
              "      <td>1</td>\n",
              "    </tr>\n",
              "    <tr>\n",
              "      <th>Musée Rodin</th>\n",
              "      <td>12</td>\n",
              "      <td>228.833333</td>\n",
              "      <td>0</td>\n",
              "    </tr>\n",
              "    <tr>\n",
              "      <th>Musée d'Orsay</th>\n",
              "      <td>29</td>\n",
              "      <td>236.241379</td>\n",
              "      <td>0</td>\n",
              "    </tr>\n",
              "    <tr>\n",
              "      <th>Musée des Arts Décoratifs</th>\n",
              "      <td>42</td>\n",
              "      <td>205.357143</td>\n",
              "      <td>0</td>\n",
              "    </tr>\n",
              "    <tr>\n",
              "      <th>Musée du Louvre</th>\n",
              "      <td>40</td>\n",
              "      <td>240.150000</td>\n",
              "      <td>0</td>\n",
              "    </tr>\n",
              "    <tr>\n",
              "      <th>Musée du Quai Branly – Jacques Chirac</th>\n",
              "      <td>3</td>\n",
              "      <td>338.666667</td>\n",
              "      <td>1</td>\n",
              "    </tr>\n",
              "    <tr>\n",
              "      <th>Palais de Tokyo</th>\n",
              "      <td>2</td>\n",
              "      <td>294.000000</td>\n",
              "      <td>1</td>\n",
              "    </tr>\n",
              "    <tr>\n",
              "      <th>Paris Pinball Museum</th>\n",
              "      <td>34</td>\n",
              "      <td>284.794118</td>\n",
              "      <td>0</td>\n",
              "    </tr>\n",
              "    <tr>\n",
              "      <th>Phono Museum</th>\n",
              "      <td>20</td>\n",
              "      <td>237.500000</td>\n",
              "      <td>0</td>\n",
              "    </tr>\n",
              "    <tr>\n",
              "      <th>Residence Museum View</th>\n",
              "      <td>37</td>\n",
              "      <td>206.810811</td>\n",
              "      <td>0</td>\n",
              "    </tr>\n",
              "    <tr>\n",
              "      <th>Société des amis du museum</th>\n",
              "      <td>26</td>\n",
              "      <td>286.653846</td>\n",
              "      <td>0</td>\n",
              "    </tr>\n",
              "    <tr>\n",
              "      <th>Studio near Chatelet/Louvre museum</th>\n",
              "      <td>28</td>\n",
              "      <td>296.892857</td>\n",
              "      <td>0</td>\n",
              "    </tr>\n",
              "    <tr>\n",
              "      <th>The Grand Parfume Museum</th>\n",
              "      <td>10</td>\n",
              "      <td>230.700000</td>\n",
              "      <td>1</td>\n",
              "    </tr>\n",
              "    <tr>\n",
              "      <th>The Museum of Everything</th>\n",
              "      <td>30</td>\n",
              "      <td>239.533333</td>\n",
              "      <td>0</td>\n",
              "    </tr>\n",
              "    <tr>\n",
              "      <th>musee de louvre</th>\n",
              "      <td>28</td>\n",
              "      <td>286.535714</td>\n",
              "      <td>0</td>\n",
              "    </tr>\n",
              "    <tr>\n",
              "      <th>paris pinball museum</th>\n",
              "      <td>37</td>\n",
              "      <td>203.540541</td>\n",
              "      <td>0</td>\n",
              "    </tr>\n",
              "  </tbody>\n",
              "</table>\n",
              "</div>"
            ],
            "text/plain": [
              "                                                    name  ...  category\n",
              "museum_name                                               ...          \n",
              "Agence France Museums                                 48  ...         0\n",
              "BLR Museum                                            13  ...         0\n",
              "Bibliothèque Centrale du Museum National d'Hist...    50  ...         0\n",
              "Bmw Museum                                             3  ...         1\n",
              "Bâtiment de la Baleine                                47  ...         0\n",
              "CHANEL Home & Museum                                  27  ...         0\n",
              "Centre Pompidou – Musée National d'Art Moderne        50  ...         0\n",
              "Deck of the Orsay Museum                              30  ...         0\n",
              "Galerie des Enfants du Muséum d'Histoire Naturelle    50  ...         0\n",
              "Grand Amphitheatre                                    46  ...         0\n",
              "Grande Galerie de l'Évolution (Grande Galerie d...    50  ...         0\n",
              "Jazz Museum                                           26  ...         0\n",
              "La Boutique des Catacombes                            36  ...         0\n",
              "La Civette du Carrousel - Museum Pass                 33  ...         0\n",
              "Lauvre Museum                                         39  ...         0\n",
              "Museum Studio                                         50  ...         0\n",
              "Museum national d'histoire naturelle                  50  ...         0\n",
              "Musée Jacquemart-André                                18  ...         0\n",
              "Musée Marmottan Monet                                  1  ...         1\n",
              "Musée National de la Marine                            2  ...         1\n",
              "Musée Rodin                                           12  ...         0\n",
              "Musée d'Orsay                                         29  ...         0\n",
              "Musée des Arts Décoratifs                             42  ...         0\n",
              "Musée du Louvre                                       40  ...         0\n",
              "Musée du Quai Branly – Jacques Chirac                  3  ...         1\n",
              "Palais de Tokyo                                        2  ...         1\n",
              "Paris Pinball Museum                                  34  ...         0\n",
              "Phono Museum                                          20  ...         0\n",
              "Residence Museum View                                 37  ...         0\n",
              "Société des amis du museum                            26  ...         0\n",
              "Studio near Chatelet/Louvre museum                    28  ...         0\n",
              "The Grand Parfume Museum                              10  ...         1\n",
              "The Museum of Everything                              30  ...         0\n",
              "musee de louvre                                       28  ...         0\n",
              "paris pinball museum                                  37  ...         0\n",
              "\n",
              "[35 rows x 3 columns]"
            ]
          },
          "metadata": {
            "tags": []
          },
          "execution_count": 45
        }
      ]
    },
    {
      "cell_type": "code",
      "metadata": {
        "id": "W-eWYp-JEJw8",
        "colab_type": "code",
        "colab": {
          "base_uri": "https://localhost:8080/",
          "height": 34
        },
        "outputId": "fc344318-7ce5-453d-ac6c-d134d87a366e"
      },
      "source": [
        "x=np.array(data[['name','location.distance']])\n",
        "y=np.array(data['category'])\n",
        "\n",
        "\n",
        "from sklearn.neighbors import KNeighborsClassifier\n",
        "classifier = KNeighborsClassifier(n_neighbors = 5, metric = 'minkowski', p = 3)\n",
        "classifier.fit(x, y)\n",
        "\n",
        "np.mean(y==classifier.predict(x))"
      ],
      "execution_count": null,
      "outputs": [
        {
          "output_type": "execute_result",
          "data": {
            "text/plain": [
              "0.8285714285714286"
            ]
          },
          "metadata": {
            "tags": []
          },
          "execution_count": 56
        }
      ]
    },
    {
      "cell_type": "markdown",
      "metadata": {
        "id": "6NEL1uCqL85s",
        "colab_type": "text"
      },
      "source": [
        "# finally we use KNN classifier to check the prediciton of clusters, with real outcomes.  We found the accuracy to be around 83%. "
      ]
    },
    {
      "cell_type": "markdown",
      "metadata": {
        "id": "peT4-0Gc7lB7",
        "colab_type": "text"
      },
      "source": [
        "## Results and Discussion <a name=\"results\"></a>"
      ]
    },
    {
      "cell_type": "code",
      "metadata": {
        "id": "iVkcsbOMHOyt",
        "colab_type": "code",
        "colab": {
          "base_uri": "https://localhost:8080/",
          "height": 134
        },
        "outputId": "211ee026-5cfc-4ed5-a54a-19efa28c57ea"
      },
      "source": [
        "hotel_count['name'][hotel_count['name']<10]"
      ],
      "execution_count": null,
      "outputs": [
        {
          "output_type": "execute_result",
          "data": {
            "text/plain": [
              "museum_name\n",
              "Bmw Museum                               3\n",
              "Musée Marmottan Monet                    1\n",
              "Musée National de la Marine              2\n",
              "Musée du Quai Branly – Jacques Chirac    3\n",
              "Palais de Tokyo                          2\n",
              "Name: name, dtype: int64"
            ]
          },
          "metadata": {
            "tags": []
          },
          "execution_count": 409
        }
      ]
    },
    {
      "cell_type": "markdown",
      "metadata": {
        "id": "duie4VWlLFv7",
        "colab_type": "text"
      },
      "source": [
        "# Hence, we selected following 5 museums as locations to build a new hotel. \n",
        "\n",
        "## BMW Museum  \n",
        "## Musée Marmottan Monet  \n",
        "## Musée National de la Marine   \n",
        "## Musée du Quai Branly – Jacques Chirac    \n",
        "## Palais de Tokyo                          \n",
        "\n"
      ]
    },
    {
      "cell_type": "markdown",
      "metadata": {
        "id": "6jQeHhPL7lB8",
        "colab_type": "text"
      },
      "source": [
        "## Conclusion <a name=\"conclusion\"></a>"
      ]
    },
    {
      "cell_type": "markdown",
      "metadata": {
        "id": "igdk--GQ7k_5",
        "colab_type": "text"
      },
      "source": [
        "In summary, we  direct our efforts on detecting areas of Paris that have low hotel density, particularly those with low number of hotels near major museums. We will limit our analysis to area ~10km around city center.\n",
        "\n",
        "In first step we have collected the required **museums that are in 10km of the Paris city center** ). We then searched have also **hotels near those musuems** (according to Foursquare search).\n",
        "\n",
        "Second step in our analysis, we calculation and exploration of '**hotel  density** near each museum.  we segment museums into over, moderate, and under -served categories use elbow method of kmeans. we also used KNN model to classify those hotels into 3 catogories. \n",
        "\n",
        "In last step we  focus on most promising areas, and within those create **clusters of locations that meet some basic requirements** established in discussion. we will take into consideration locations with **less than 10 hotels within 300 meters**.  We will present map of all such locations also create clusters (using **kmeans elbow**) of those locations to identify general addresses which should be a starting point for final 'street level' search for optimal  location for a new hotel."
      ]
    }
  ]
}